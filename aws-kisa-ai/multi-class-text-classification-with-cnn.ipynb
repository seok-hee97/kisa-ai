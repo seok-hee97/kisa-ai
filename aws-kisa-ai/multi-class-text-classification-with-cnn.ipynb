{
 "cells": [
  {
   "cell_type": "markdown",
   "metadata": {
    "papermill": {
     "duration": 0.014202,
     "end_time": "2020-08-30T14:35:45.103663",
     "exception": false,
     "start_time": "2020-08-30T14:35:45.089461",
     "status": "completed"
    },
    "tags": []
   },
   "source": [
    "# Multi-Class Text Classification with Turkish Dataset\n",
    "https://www.kaggle.com/code/darkcore/multi-class-text-classification-with-cnn/notebook\n",
    "\n",
    "<h3>In this kernel, I will try to classify \"comments\"(text) with \"categories\"(text) using CNN</h3>\n",
    "<p style=\"font-size:20px\">Table of Content</p>\n",
    "\n",
    "* [Data Overview](#1)\n",
    "* [Word Overview](#2)\n",
    "* [NLP Processing](#3)\n",
    "* [ANN Building and Fitting](#4)\n",
    "* [CNN Building and Fitting](#5)"
   ]
  },
  {
   "cell_type": "code",
   "execution_count": 3,
   "metadata": {
    "_cell_guid": "b1076dfc-b9ad-4769-8c92-a6c4dae69d19",
    "_uuid": "8f2839f25d086af736a60e9eeb907d3b93b6e0e5",
    "papermill": {
     "duration": 0.12941,
     "end_time": "2020-08-30T14:35:45.245934",
     "exception": false,
     "start_time": "2020-08-30T14:35:45.116524",
     "status": "completed"
    },
    "tags": []
   },
   "outputs": [
    {
     "name": "stderr",
     "output_type": "stream",
     "text": [
      "2023-10-19 18:01:52.814469: I tensorflow/core/platform/cpu_feature_guard.cc:193] This TensorFlow binary is optimized with oneAPI Deep Neural Network Library (oneDNN) to use the following CPU instructions in performance-critical operations:  AVX512F\n",
      "To enable them in other operations, rebuild TensorFlow with the appropriate compiler flags.\n",
      "2023-10-19 18:01:53.525072: W tensorflow/core/profiler/internal/smprofiler_timeline.cc:460] Initializing the SageMaker Profiler.\n",
      "2023-10-19 18:01:53.526081: W tensorflow/core/profiler/internal/smprofiler_timeline.cc:105] SageMaker Profiler is not enabled. The timeline writer thread will not be started, future recorded events will be dropped.\n",
      "2023-10-19 18:01:53.674379: W tensorflow/core/profiler/internal/smprofiler_timeline.cc:460] Initializing the SageMaker Profiler.\n"
     ]
    }
   ],
   "source": [
    "import numpy as np\n",
    "import pandas as pd\n",
    "import matplotlib.pyplot as plt\n",
    "import keras\n",
    "from warnings import filterwarnings\n",
    "\n",
    "# 경고 메시지를 무시합니다.\n",
    "filterwarnings('ignore')\n",
    "\n",
    "# 필요한 라이브러리를 가져옵니다.\n",
    "import os\n",
    "\n",
    "# for dirname, _, filenames in os.walk('/kaggle/input'):\n",
    "#     for filename in filenames:\n",
    "#         print(os.path.join(dirname, filename))\n",
    "# print(\"Added shopping_cart.png for wordcloud\")"
   ]
  },
  {
   "cell_type": "markdown",
   "metadata": {
    "papermill": {
     "duration": 0.015316,
     "end_time": "2020-08-30T14:35:45.276373",
     "exception": false,
     "start_time": "2020-08-30T14:35:45.261057",
     "status": "completed"
    },
    "tags": []
   },
   "source": [
    "# **Data Overview** <a id=\"1\"></a>"
   ]
  },
  {
   "cell_type": "code",
   "execution_count": 4,
   "metadata": {
    "papermill": {
     "duration": 2.955166,
     "end_time": "2020-08-30T14:35:48.249363",
     "exception": false,
     "start_time": "2020-08-30T14:35:45.294197",
     "status": "completed"
    },
    "tags": []
   },
   "outputs": [],
   "source": [
    "# data = pd.read_csv('/kaggle/input/multiclass-classification-data-for-turkish-tc32/ticaret-yorum.csv')\n",
    "# pd.set_option('max_colwidth', 500)\n",
    "# data.head(5)"
   ]
  },
  {
   "cell_type": "code",
   "execution_count": 5,
   "metadata": {
    "tags": []
   },
   "outputs": [
    {
     "data": {
      "text/html": [
       "<div>\n",
       "<style scoped>\n",
       "    .dataframe tbody tr th:only-of-type {\n",
       "        vertical-align: middle;\n",
       "    }\n",
       "\n",
       "    .dataframe tbody tr th {\n",
       "        vertical-align: top;\n",
       "    }\n",
       "\n",
       "    .dataframe thead th {\n",
       "        text-align: right;\n",
       "    }\n",
       "</style>\n",
       "<table border=\"1\" class=\"dataframe\">\n",
       "  <thead>\n",
       "    <tr style=\"text-align: right;\">\n",
       "      <th></th>\n",
       "      <th>Unnamed: 0</th>\n",
       "      <th>payload</th>\n",
       "      <th>label_action</th>\n",
       "    </tr>\n",
       "  </thead>\n",
       "  <tbody>\n",
       "    <tr>\n",
       "      <th>0</th>\n",
       "      <td>0</td>\n",
       "      <td>get /forum1_professionnel.asp?n=/.\\\\\\\"./.\\\\\\\"./.\\\\\\\"./.\\\\\\\"./.\\\\\\\"./boot.ini&amp;amp;nn=100&amp;amp;page=1|234|800a0bcd|either_bof_or_eof_is_true__or_the_current_record_has_been_deleted._requested_operation_requires_a_current_record. http/1.1\\r\\nconnection: keep-alive\\r\\nuser-agent: mozilla/5.00 (nikto/2.1.6) (evasions:none) (test:002421)\\r\\ncontent-type: application/x-www-form-urlencoded\\r\\ncontent-length: 36\\r\\nhost: 10.0.17.21\\r\\n\\r\\n&lt;!--#include virtual=\\\"/indomainabc063.jsp\\\"--&gt;</td>\n",
       "      <td>System_Cmd_Execution</td>\n",
       "    </tr>\n",
       "    <tr>\n",
       "      <th>1</th>\n",
       "      <td>1</td>\n",
       "      <td>post /owa/auth/logon.aspx?replacecurrent=1\") and 9294=utl_inaddr.get_host_address(chr(113)||chr(112)||chr(98)||chr(120)||chr(113)||(select (case when (9294=9294) then 1 else 0 end) from dual)||chr(113)||chr(122)||chr(106)||chr(107)||chr(113)) and (\"tddx\"=\"tddx&amp;reason=3&amp;url= http/1.1\\r\\ncontent-length: 0\\r\\ncache-control: no-cache\\r\\nuser-agent: sqlmap/1.6.7#stable (https://sqlmap.org)\\r\\nreferer: http://owa.college.school:80/owa/auth/logon.aspx\\r\\nhost: owa.college.school\\r\\naccept: */*\\r\\na...</td>\n",
       "      <td>System_Cmd_Execution</td>\n",
       "    </tr>\n",
       "    <tr>\n",
       "      <th>2</th>\n",
       "      <td>2</td>\n",
       "      <td>get /goods/goods_search?display_type=list&amp;arr_search_list[0][search_type]=-1839 or 1=2&amp;arr_search_list[0][search]=1&amp;arr_search_list[1][search_type]=gm.name&amp;arr_search_list[1][search]=1&amp;arr_search_list[2][search_type]=gm.name&amp;arr_search_list[2][search]=1&amp;search_include=y&amp;search=1&amp;search_type=gm.name http/1.1\\r\\nhost: www.college.school\\r\\nauthorization: negotiate tlrmtvntuaabaaaat4ii4gaaaaaaaaaaaaaaaaaaaaakaf1yaaaadw==\\r\\naccept-encoding: gzip, deflate\\r\\nuser-agent: mozilla/5.0 (gecko) arach...</td>\n",
       "      <td>SQL_Injection</td>\n",
       "    </tr>\n",
       "    <tr>\n",
       "      <th>3</th>\n",
       "      <td>3</td>\n",
       "      <td>get / http/1.1\\r\\n\\r\\n</td>\n",
       "      <td>HOST_Scan</td>\n",
       "    </tr>\n",
       "    <tr>\n",
       "      <th>4</th>\n",
       "      <td>4</td>\n",
       "      <td>get /sub_04_1_read.php?page=1&amp;id=31);select * from generate_series(9156,9156,case when (9156=5350) then 1 else 0 end) limit 1-- http/1.1\\r\\ncache-control: no-cache\\r\\nuser-agent: sqlmap/1.6.10#stable (https://sqlmap.org)\\r\\nreferer: http://10.0.17.20:80/sub_04_1_read.php\\r\\nhost: 10.0.17.20\\r\\naccept: */*\\r\\naccept-encoding: gzip,deflate\\r\\nconnection: close\\r\\n\\r\\n</td>\n",
       "      <td>System_Cmd_Execution</td>\n",
       "    </tr>\n",
       "  </tbody>\n",
       "</table>\n",
       "</div>"
      ],
      "text/plain": [
       "   Unnamed: 0  \\\n",
       "0           0   \n",
       "1           1   \n",
       "2           2   \n",
       "3           3   \n",
       "4           4   \n",
       "\n",
       "                                                                                                                                                                                                                                                                                                                                                                                                                                                                                                               payload  \\\n",
       "0                     get /forum1_professionnel.asp?n=/.\\\\\\\"./.\\\\\\\"./.\\\\\\\"./.\\\\\\\"./.\\\\\\\"./boot.ini&amp;nn=100&amp;page=1|234|800a0bcd|either_bof_or_eof_is_true__or_the_current_record_has_been_deleted._requested_operation_requires_a_current_record. http/1.1\\r\\nconnection: keep-alive\\r\\nuser-agent: mozilla/5.00 (nikto/2.1.6) (evasions:none) (test:002421)\\r\\ncontent-type: application/x-www-form-urlencoded\\r\\ncontent-length: 36\\r\\nhost: 10.0.17.21\\r\\n\\r\\n<!--#include virtual=\\\"/indomainabc063.jsp\\\"-->   \n",
       "1  post /owa/auth/logon.aspx?replacecurrent=1\") and 9294=utl_inaddr.get_host_address(chr(113)||chr(112)||chr(98)||chr(120)||chr(113)||(select (case when (9294=9294) then 1 else 0 end) from dual)||chr(113)||chr(122)||chr(106)||chr(107)||chr(113)) and (\"tddx\"=\"tddx&reason=3&url= http/1.1\\r\\ncontent-length: 0\\r\\ncache-control: no-cache\\r\\nuser-agent: sqlmap/1.6.7#stable (https://sqlmap.org)\\r\\nreferer: http://owa.college.school:80/owa/auth/logon.aspx\\r\\nhost: owa.college.school\\r\\naccept: */*\\r\\na...   \n",
       "2  get /goods/goods_search?display_type=list&arr_search_list[0][search_type]=-1839 or 1=2&arr_search_list[0][search]=1&arr_search_list[1][search_type]=gm.name&arr_search_list[1][search]=1&arr_search_list[2][search_type]=gm.name&arr_search_list[2][search]=1&search_include=y&search=1&search_type=gm.name http/1.1\\r\\nhost: www.college.school\\r\\nauthorization: negotiate tlrmtvntuaabaaaat4ii4gaaaaaaaaaaaaaaaaaaaaakaf1yaaaadw==\\r\\naccept-encoding: gzip, deflate\\r\\nuser-agent: mozilla/5.0 (gecko) arach...   \n",
       "3                                                                                                                                                                                                                                                                                                                                                                                                                                                                                               get / http/1.1\\r\\n\\r\\n   \n",
       "4                                                                                                                                     get /sub_04_1_read.php?page=1&id=31);select * from generate_series(9156,9156,case when (9156=5350) then 1 else 0 end) limit 1-- http/1.1\\r\\ncache-control: no-cache\\r\\nuser-agent: sqlmap/1.6.10#stable (https://sqlmap.org)\\r\\nreferer: http://10.0.17.20:80/sub_04_1_read.php\\r\\nhost: 10.0.17.20\\r\\naccept: */*\\r\\naccept-encoding: gzip,deflate\\r\\nconnection: close\\r\\n\\r\\n   \n",
       "\n",
       "           label_action  \n",
       "0  System_Cmd_Execution  \n",
       "1  System_Cmd_Execution  \n",
       "2         SQL_Injection  \n",
       "3             HOST_Scan  \n",
       "4  System_Cmd_Execution  "
      ]
     },
     "execution_count": 5,
     "metadata": {},
     "output_type": "execute_result"
    }
   ],
   "source": [
    "data =pd.read_csv('../dataset/A-Track-clean.csv')  # Replace with your CSV file path\n",
    "pd.set_option('max_colwidth', 500)\n",
    "data.head(5)"
   ]
  },
  {
   "cell_type": "code",
   "execution_count": 6,
   "metadata": {
    "papermill": {
     "duration": 1.346743,
     "end_time": "2020-08-30T14:35:49.609457",
     "exception": false,
     "start_time": "2020-08-30T14:35:48.262714",
     "status": "completed"
    },
    "tags": []
   },
   "outputs": [],
   "source": [
    "# data.describe()"
   ]
  },
  {
   "cell_type": "code",
   "execution_count": 7,
   "metadata": {
    "tags": []
   },
   "outputs": [
    {
     "data": {
      "text/html": [
       "<div>\n",
       "<style scoped>\n",
       "    .dataframe tbody tr th:only-of-type {\n",
       "        vertical-align: middle;\n",
       "    }\n",
       "\n",
       "    .dataframe tbody tr th {\n",
       "        vertical-align: top;\n",
       "    }\n",
       "\n",
       "    .dataframe thead th {\n",
       "        text-align: right;\n",
       "    }\n",
       "</style>\n",
       "<table border=\"1\" class=\"dataframe\">\n",
       "  <thead>\n",
       "    <tr style=\"text-align: right;\">\n",
       "      <th></th>\n",
       "      <th>Unnamed: 0</th>\n",
       "    </tr>\n",
       "  </thead>\n",
       "  <tbody>\n",
       "    <tr>\n",
       "      <th>count</th>\n",
       "      <td>45000.000000</td>\n",
       "    </tr>\n",
       "    <tr>\n",
       "      <th>mean</th>\n",
       "      <td>22499.500000</td>\n",
       "    </tr>\n",
       "    <tr>\n",
       "      <th>std</th>\n",
       "      <td>12990.525394</td>\n",
       "    </tr>\n",
       "    <tr>\n",
       "      <th>min</th>\n",
       "      <td>0.000000</td>\n",
       "    </tr>\n",
       "    <tr>\n",
       "      <th>25%</th>\n",
       "      <td>11249.750000</td>\n",
       "    </tr>\n",
       "    <tr>\n",
       "      <th>50%</th>\n",
       "      <td>22499.500000</td>\n",
       "    </tr>\n",
       "    <tr>\n",
       "      <th>75%</th>\n",
       "      <td>33749.250000</td>\n",
       "    </tr>\n",
       "    <tr>\n",
       "      <th>max</th>\n",
       "      <td>44999.000000</td>\n",
       "    </tr>\n",
       "  </tbody>\n",
       "</table>\n",
       "</div>"
      ],
      "text/plain": [
       "         Unnamed: 0\n",
       "count  45000.000000\n",
       "mean   22499.500000\n",
       "std    12990.525394\n",
       "min        0.000000\n",
       "25%    11249.750000\n",
       "50%    22499.500000\n",
       "75%    33749.250000\n",
       "max    44999.000000"
      ]
     },
     "execution_count": 7,
     "metadata": {},
     "output_type": "execute_result"
    }
   ],
   "source": [
    "data.describe()"
   ]
  },
  {
   "cell_type": "code",
   "execution_count": 8,
   "metadata": {
    "papermill": {
     "duration": 0.139729,
     "end_time": "2020-08-30T14:35:49.762732",
     "exception": false,
     "start_time": "2020-08-30T14:35:49.623003",
     "status": "completed"
    },
    "tags": []
   },
   "outputs": [],
   "source": [
    "# data.info()"
   ]
  },
  {
   "cell_type": "code",
   "execution_count": 9,
   "metadata": {
    "tags": []
   },
   "outputs": [
    {
     "name": "stdout",
     "output_type": "stream",
     "text": [
      "<class 'pandas.core.frame.DataFrame'>\n",
      "RangeIndex: 45000 entries, 0 to 44999\n",
      "Data columns (total 3 columns):\n",
      " #   Column        Non-Null Count  Dtype \n",
      "---  ------        --------------  ----- \n",
      " 0   Unnamed: 0    45000 non-null  int64 \n",
      " 1   payload       45000 non-null  object\n",
      " 2   label_action  45000 non-null  object\n",
      "dtypes: int64(1), object(2)\n",
      "memory usage: 1.0+ MB\n"
     ]
    }
   ],
   "source": [
    "data.info()"
   ]
  },
  {
   "cell_type": "code",
   "execution_count": 10,
   "metadata": {
    "papermill": {
     "duration": 0.127574,
     "end_time": "2020-08-30T14:35:49.930906",
     "exception": false,
     "start_time": "2020-08-30T14:35:49.803332",
     "status": "completed"
    },
    "tags": []
   },
   "outputs": [],
   "source": [
    "# data.category.value_counts()"
   ]
  },
  {
   "cell_type": "code",
   "execution_count": 11,
   "metadata": {
    "tags": []
   },
   "outputs": [
    {
     "data": {
      "text/plain": [
       "Vulnerability_Scan               16867\n",
       "System_Cmd_Execution              9807\n",
       "HOST_Scan                         6315\n",
       "Path_Disclosure                   4775\n",
       "SQL_Injection                     3395\n",
       "Cross_Site_Scripting              1348\n",
       "Automatically_Searching_Infor     1119\n",
       "Leakage_Through_NW                 956\n",
       "Directory_Indexing                 418\n",
       "Name: label_action, dtype: int64"
      ]
     },
     "execution_count": 11,
     "metadata": {},
     "output_type": "execute_result"
    }
   ],
   "source": [
    "data['label_action'].value_counts()"
   ]
  },
  {
   "cell_type": "markdown",
   "metadata": {
    "papermill": {
     "duration": 0.013491,
     "end_time": "2020-08-30T14:35:49.958536",
     "exception": false,
     "start_time": "2020-08-30T14:35:49.945045",
     "status": "completed"
    },
    "tags": []
   },
   "source": [
    "<h2>So data contains 431306 lines and 32 unique categories and it seems there is no NaN, right?</h2>\n",
    "<h3>But why text label has 4075 (431306-427231) non-unique comments? And we have a \"top\" comment starts with \"Cinemaximum 4 Aydır\" so let's check what it is  </h3>"
   ]
  },
  {
   "cell_type": "code",
   "execution_count": 12,
   "metadata": {
    "papermill": {
     "duration": 0.328387,
     "end_time": "2020-08-30T14:35:50.300846",
     "exception": false,
     "start_time": "2020-08-30T14:35:49.972459",
     "status": "completed"
    },
    "tags": []
   },
   "outputs": [],
   "source": [
    "# count = 0\n",
    "# cinemaximum4aydir = \"Cinemaximum 4 Aydır Bilet Paralarını Bir Türlü İade Etmiyor,\"\n",
    "# for text in data.text:\n",
    "#     if cinemaximum4aydir in text[:len(cinemaximum4aydir)]:\n",
    "#         count += 1\n",
    "# print(count)"
   ]
  },
  {
   "cell_type": "markdown",
   "metadata": {
    "papermill": {
     "duration": 0.014393,
     "end_time": "2020-08-30T14:35:50.330087",
     "exception": false,
     "start_time": "2020-08-30T14:35:50.315694",
     "status": "completed"
    },
    "tags": []
   },
   "source": [
    "So they really are duplicated...\n",
    "\n",
    "We don't need to but I want to get rid of every non-unique comment so I will use pandas' 2 functions named \"duplicated\" and \"drop_duplicates\"\n",
    "\n",
    "\"duplicated\" gets keep={‘first’, ‘last’, False} parameter and can be used both \"pandas.DataFrame\" and \"pandas.Series\" objects and returns \"pandas.Series\" object with True-False statements \n",
    "\n",
    "\"drop_duplicates\" works like \"dropna\" so it gets inplace={True,False} and subset={column label} with keep={‘first’,‘last’ False}\n",
    "There is also another parameter named ignore_index={True,False} let me explain this\n",
    "In default ignore_index=False it means if it remove a duplicated, index will not change so 1-a,2-a,3-b will be 1-a,3-b and it breaks for loop with len(data) because of that we need to change ignore_index\n",
    "\n",
    "\n",
    "In default keep =\"first\"\n"
   ]
  },
  {
   "cell_type": "code",
   "execution_count": 13,
   "metadata": {
    "papermill": {
     "duration": 0.030691,
     "end_time": "2020-08-30T14:35:50.375157",
     "exception": false,
     "start_time": "2020-08-30T14:35:50.344466",
     "status": "completed"
    },
    "tags": []
   },
   "outputs": [],
   "source": [
    "# exampleArray = np.array([[1,1],[1,2],[4,5]])\n",
    "# exampleFrame = pd.DataFrame(exampleArray,columns=[\"ex1\",\"ex2\"])\n",
    "# exampleFrame"
   ]
  },
  {
   "cell_type": "code",
   "execution_count": 14,
   "metadata": {
    "papermill": {
     "duration": 0.034388,
     "end_time": "2020-08-30T14:35:50.423801",
     "exception": false,
     "start_time": "2020-08-30T14:35:50.389413",
     "status": "completed"
    },
    "tags": []
   },
   "outputs": [],
   "source": [
    "# ex1 = exampleFrame.drop_duplicates(subset=\"ex1\",keep=\"first\")\n",
    "# print(\"Without ignore_index\")\n",
    "# print(ex1)\n",
    "# ex2 = exampleFrame.drop_duplicates(subset=\"ex1\",keep=\"first\",ignore_index=True)\n",
    "# print(\"With ignore_index\")\n",
    "# print(ex2)"
   ]
  },
  {
   "cell_type": "code",
   "execution_count": 15,
   "metadata": {
    "papermill": {
     "duration": 0.231993,
     "end_time": "2020-08-30T14:35:50.670150",
     "exception": false,
     "start_time": "2020-08-30T14:35:50.438157",
     "status": "completed"
    },
    "tags": []
   },
   "outputs": [],
   "source": [
    "# data.text.duplicated(keep=\"first\").value_counts()"
   ]
  },
  {
   "cell_type": "code",
   "execution_count": 16,
   "metadata": {
    "tags": []
   },
   "outputs": [],
   "source": [
    "# # data['payload'].duplicated(keep=\"first\").value_counts()\n",
    "# data['payload'].duplicated(keep=False).value_counts()"
   ]
  },
  {
   "cell_type": "code",
   "execution_count": 17,
   "metadata": {
    "papermill": {
     "duration": 2.990318,
     "end_time": "2020-08-30T14:35:53.674860",
     "exception": false,
     "start_time": "2020-08-30T14:35:50.684542",
     "status": "completed"
    },
    "tags": []
   },
   "outputs": [],
   "source": [
    "# data.drop_duplicates(subset=\"text\",keep=\"first\",inplace=True,ignore_index=True)\n",
    "# data.describe()"
   ]
  },
  {
   "cell_type": "markdown",
   "metadata": {
    "papermill": {
     "duration": 0.014929,
     "end_time": "2020-08-30T14:35:53.710823",
     "exception": false,
     "start_time": "2020-08-30T14:35:53.695894",
     "status": "completed"
    },
    "tags": []
   },
   "source": [
    "<h2> Now we can visualize Category</h2>"
   ]
  },
  {
   "cell_type": "code",
   "execution_count": 18,
   "metadata": {
    "papermill": {
     "duration": 3.591524,
     "end_time": "2020-08-30T14:35:57.317200",
     "exception": false,
     "start_time": "2020-08-30T14:35:53.725676",
     "status": "completed"
    },
    "tags": []
   },
   "outputs": [],
   "source": [
    "# import plotly.graph_objects as go\n",
    "# from plotly.offline import iplot, init_notebook_mode\n",
    "# import plotly.express as px\n",
    "# import plotly.io as pio\n",
    "\n",
    "# init_notebook_mode(True)\n",
    "\n",
    "# fig = px.bar(x=data.category.value_counts().index,y=data.category.value_counts(),color=data.category.value_counts().index,text=data.category.value_counts())\n",
    "# fig.update_traces(hovertemplate=\"Category:'%{x}' Counted: %{y}\")\n",
    "# fig.update_layout(title={\"text\":\"Category Counts\",\"x\":0.5,\"font\":{\"size\":35}},xaxis={\"title\":\"Category\",\"showgrid\":False},yaxis={\"title\":\"Value\",\"showgrid\":False},plot_bgcolor=\"white\",width=800,height=500,showlegend=False)\n",
    "# iplot(fig)"
   ]
  },
  {
   "cell_type": "code",
   "execution_count": 19,
   "metadata": {
    "tags": []
   },
   "outputs": [
    {
     "data": {
      "text/html": [
       "        <script type=\"text/javascript\">\n",
       "        window.PlotlyConfig = {MathJaxConfig: 'local'};\n",
       "        if (window.MathJax && window.MathJax.Hub && window.MathJax.Hub.Config) {window.MathJax.Hub.Config({SVG: {font: \"STIX-Web\"}});}\n",
       "        if (typeof require !== 'undefined') {\n",
       "        require.undef(\"plotly\");\n",
       "        requirejs.config({\n",
       "            paths: {\n",
       "                'plotly': ['https://cdn.plot.ly/plotly-2.17.1.min']\n",
       "            }\n",
       "        });\n",
       "        require(['plotly'], function(Plotly) {\n",
       "            window._Plotly = Plotly;\n",
       "        });\n",
       "        }\n",
       "        </script>\n",
       "        "
      ]
     },
     "metadata": {},
     "output_type": "display_data"
    },
    {
     "data": {
      "application/vnd.plotly.v1+json": {
       "config": {
        "linkText": "Export to plot.ly",
        "plotlyServerURL": "https://plot.ly",
        "showLink": false
       },
       "data": [
        {
         "alignmentgroup": "True",
         "hovertemplate": "Category:'%{x}' Counted: %{y}",
         "legendgroup": "Vulnerability_Scan",
         "marker": {
          "color": "#636efa",
          "pattern": {
           "shape": ""
          }
         },
         "name": "Vulnerability_Scan",
         "offsetgroup": "Vulnerability_Scan",
         "orientation": "v",
         "showlegend": true,
         "text": [
          16867
         ],
         "textposition": "auto",
         "type": "bar",
         "x": [
          "Vulnerability_Scan"
         ],
         "xaxis": "x",
         "y": [
          16867
         ],
         "yaxis": "y"
        },
        {
         "alignmentgroup": "True",
         "hovertemplate": "Category:'%{x}' Counted: %{y}",
         "legendgroup": "System_Cmd_Execution",
         "marker": {
          "color": "#EF553B",
          "pattern": {
           "shape": ""
          }
         },
         "name": "System_Cmd_Execution",
         "offsetgroup": "System_Cmd_Execution",
         "orientation": "v",
         "showlegend": true,
         "text": [
          9807
         ],
         "textposition": "auto",
         "type": "bar",
         "x": [
          "System_Cmd_Execution"
         ],
         "xaxis": "x",
         "y": [
          9807
         ],
         "yaxis": "y"
        },
        {
         "alignmentgroup": "True",
         "hovertemplate": "Category:'%{x}' Counted: %{y}",
         "legendgroup": "HOST_Scan",
         "marker": {
          "color": "#00cc96",
          "pattern": {
           "shape": ""
          }
         },
         "name": "HOST_Scan",
         "offsetgroup": "HOST_Scan",
         "orientation": "v",
         "showlegend": true,
         "text": [
          6315
         ],
         "textposition": "auto",
         "type": "bar",
         "x": [
          "HOST_Scan"
         ],
         "xaxis": "x",
         "y": [
          6315
         ],
         "yaxis": "y"
        },
        {
         "alignmentgroup": "True",
         "hovertemplate": "Category:'%{x}' Counted: %{y}",
         "legendgroup": "Path_Disclosure",
         "marker": {
          "color": "#ab63fa",
          "pattern": {
           "shape": ""
          }
         },
         "name": "Path_Disclosure",
         "offsetgroup": "Path_Disclosure",
         "orientation": "v",
         "showlegend": true,
         "text": [
          4775
         ],
         "textposition": "auto",
         "type": "bar",
         "x": [
          "Path_Disclosure"
         ],
         "xaxis": "x",
         "y": [
          4775
         ],
         "yaxis": "y"
        },
        {
         "alignmentgroup": "True",
         "hovertemplate": "Category:'%{x}' Counted: %{y}",
         "legendgroup": "SQL_Injection",
         "marker": {
          "color": "#FFA15A",
          "pattern": {
           "shape": ""
          }
         },
         "name": "SQL_Injection",
         "offsetgroup": "SQL_Injection",
         "orientation": "v",
         "showlegend": true,
         "text": [
          3395
         ],
         "textposition": "auto",
         "type": "bar",
         "x": [
          "SQL_Injection"
         ],
         "xaxis": "x",
         "y": [
          3395
         ],
         "yaxis": "y"
        },
        {
         "alignmentgroup": "True",
         "hovertemplate": "Category:'%{x}' Counted: %{y}",
         "legendgroup": "Cross_Site_Scripting",
         "marker": {
          "color": "#19d3f3",
          "pattern": {
           "shape": ""
          }
         },
         "name": "Cross_Site_Scripting",
         "offsetgroup": "Cross_Site_Scripting",
         "orientation": "v",
         "showlegend": true,
         "text": [
          1348
         ],
         "textposition": "auto",
         "type": "bar",
         "x": [
          "Cross_Site_Scripting"
         ],
         "xaxis": "x",
         "y": [
          1348
         ],
         "yaxis": "y"
        },
        {
         "alignmentgroup": "True",
         "hovertemplate": "Category:'%{x}' Counted: %{y}",
         "legendgroup": "Automatically_Searching_Infor",
         "marker": {
          "color": "#FF6692",
          "pattern": {
           "shape": ""
          }
         },
         "name": "Automatically_Searching_Infor",
         "offsetgroup": "Automatically_Searching_Infor",
         "orientation": "v",
         "showlegend": true,
         "text": [
          1119
         ],
         "textposition": "auto",
         "type": "bar",
         "x": [
          "Automatically_Searching_Infor"
         ],
         "xaxis": "x",
         "y": [
          1119
         ],
         "yaxis": "y"
        },
        {
         "alignmentgroup": "True",
         "hovertemplate": "Category:'%{x}' Counted: %{y}",
         "legendgroup": "Leakage_Through_NW",
         "marker": {
          "color": "#B6E880",
          "pattern": {
           "shape": ""
          }
         },
         "name": "Leakage_Through_NW",
         "offsetgroup": "Leakage_Through_NW",
         "orientation": "v",
         "showlegend": true,
         "text": [
          956
         ],
         "textposition": "auto",
         "type": "bar",
         "x": [
          "Leakage_Through_NW"
         ],
         "xaxis": "x",
         "y": [
          956
         ],
         "yaxis": "y"
        },
        {
         "alignmentgroup": "True",
         "hovertemplate": "Category:'%{x}' Counted: %{y}",
         "legendgroup": "Directory_Indexing",
         "marker": {
          "color": "#FF97FF",
          "pattern": {
           "shape": ""
          }
         },
         "name": "Directory_Indexing",
         "offsetgroup": "Directory_Indexing",
         "orientation": "v",
         "showlegend": true,
         "text": [
          418
         ],
         "textposition": "auto",
         "type": "bar",
         "x": [
          "Directory_Indexing"
         ],
         "xaxis": "x",
         "y": [
          418
         ],
         "yaxis": "y"
        }
       ],
       "layout": {
        "barmode": "relative",
        "height": 500,
        "legend": {
         "title": {
          "text": "color"
         },
         "tracegroupgap": 0
        },
        "margin": {
         "t": 60
        },
        "plot_bgcolor": "white",
        "showlegend": false,
        "template": {
         "data": {
          "bar": [
           {
            "error_x": {
             "color": "#2a3f5f"
            },
            "error_y": {
             "color": "#2a3f5f"
            },
            "marker": {
             "line": {
              "color": "#E5ECF6",
              "width": 0.5
             },
             "pattern": {
              "fillmode": "overlay",
              "size": 10,
              "solidity": 0.2
             }
            },
            "type": "bar"
           }
          ],
          "barpolar": [
           {
            "marker": {
             "line": {
              "color": "#E5ECF6",
              "width": 0.5
             },
             "pattern": {
              "fillmode": "overlay",
              "size": 10,
              "solidity": 0.2
             }
            },
            "type": "barpolar"
           }
          ],
          "carpet": [
           {
            "aaxis": {
             "endlinecolor": "#2a3f5f",
             "gridcolor": "white",
             "linecolor": "white",
             "minorgridcolor": "white",
             "startlinecolor": "#2a3f5f"
            },
            "baxis": {
             "endlinecolor": "#2a3f5f",
             "gridcolor": "white",
             "linecolor": "white",
             "minorgridcolor": "white",
             "startlinecolor": "#2a3f5f"
            },
            "type": "carpet"
           }
          ],
          "choropleth": [
           {
            "colorbar": {
             "outlinewidth": 0,
             "ticks": ""
            },
            "type": "choropleth"
           }
          ],
          "contour": [
           {
            "colorbar": {
             "outlinewidth": 0,
             "ticks": ""
            },
            "colorscale": [
             [
              0,
              "#0d0887"
             ],
             [
              0.1111111111111111,
              "#46039f"
             ],
             [
              0.2222222222222222,
              "#7201a8"
             ],
             [
              0.3333333333333333,
              "#9c179e"
             ],
             [
              0.4444444444444444,
              "#bd3786"
             ],
             [
              0.5555555555555556,
              "#d8576b"
             ],
             [
              0.6666666666666666,
              "#ed7953"
             ],
             [
              0.7777777777777778,
              "#fb9f3a"
             ],
             [
              0.8888888888888888,
              "#fdca26"
             ],
             [
              1,
              "#f0f921"
             ]
            ],
            "type": "contour"
           }
          ],
          "contourcarpet": [
           {
            "colorbar": {
             "outlinewidth": 0,
             "ticks": ""
            },
            "type": "contourcarpet"
           }
          ],
          "heatmap": [
           {
            "colorbar": {
             "outlinewidth": 0,
             "ticks": ""
            },
            "colorscale": [
             [
              0,
              "#0d0887"
             ],
             [
              0.1111111111111111,
              "#46039f"
             ],
             [
              0.2222222222222222,
              "#7201a8"
             ],
             [
              0.3333333333333333,
              "#9c179e"
             ],
             [
              0.4444444444444444,
              "#bd3786"
             ],
             [
              0.5555555555555556,
              "#d8576b"
             ],
             [
              0.6666666666666666,
              "#ed7953"
             ],
             [
              0.7777777777777778,
              "#fb9f3a"
             ],
             [
              0.8888888888888888,
              "#fdca26"
             ],
             [
              1,
              "#f0f921"
             ]
            ],
            "type": "heatmap"
           }
          ],
          "heatmapgl": [
           {
            "colorbar": {
             "outlinewidth": 0,
             "ticks": ""
            },
            "colorscale": [
             [
              0,
              "#0d0887"
             ],
             [
              0.1111111111111111,
              "#46039f"
             ],
             [
              0.2222222222222222,
              "#7201a8"
             ],
             [
              0.3333333333333333,
              "#9c179e"
             ],
             [
              0.4444444444444444,
              "#bd3786"
             ],
             [
              0.5555555555555556,
              "#d8576b"
             ],
             [
              0.6666666666666666,
              "#ed7953"
             ],
             [
              0.7777777777777778,
              "#fb9f3a"
             ],
             [
              0.8888888888888888,
              "#fdca26"
             ],
             [
              1,
              "#f0f921"
             ]
            ],
            "type": "heatmapgl"
           }
          ],
          "histogram": [
           {
            "marker": {
             "pattern": {
              "fillmode": "overlay",
              "size": 10,
              "solidity": 0.2
             }
            },
            "type": "histogram"
           }
          ],
          "histogram2d": [
           {
            "colorbar": {
             "outlinewidth": 0,
             "ticks": ""
            },
            "colorscale": [
             [
              0,
              "#0d0887"
             ],
             [
              0.1111111111111111,
              "#46039f"
             ],
             [
              0.2222222222222222,
              "#7201a8"
             ],
             [
              0.3333333333333333,
              "#9c179e"
             ],
             [
              0.4444444444444444,
              "#bd3786"
             ],
             [
              0.5555555555555556,
              "#d8576b"
             ],
             [
              0.6666666666666666,
              "#ed7953"
             ],
             [
              0.7777777777777778,
              "#fb9f3a"
             ],
             [
              0.8888888888888888,
              "#fdca26"
             ],
             [
              1,
              "#f0f921"
             ]
            ],
            "type": "histogram2d"
           }
          ],
          "histogram2dcontour": [
           {
            "colorbar": {
             "outlinewidth": 0,
             "ticks": ""
            },
            "colorscale": [
             [
              0,
              "#0d0887"
             ],
             [
              0.1111111111111111,
              "#46039f"
             ],
             [
              0.2222222222222222,
              "#7201a8"
             ],
             [
              0.3333333333333333,
              "#9c179e"
             ],
             [
              0.4444444444444444,
              "#bd3786"
             ],
             [
              0.5555555555555556,
              "#d8576b"
             ],
             [
              0.6666666666666666,
              "#ed7953"
             ],
             [
              0.7777777777777778,
              "#fb9f3a"
             ],
             [
              0.8888888888888888,
              "#fdca26"
             ],
             [
              1,
              "#f0f921"
             ]
            ],
            "type": "histogram2dcontour"
           }
          ],
          "mesh3d": [
           {
            "colorbar": {
             "outlinewidth": 0,
             "ticks": ""
            },
            "type": "mesh3d"
           }
          ],
          "parcoords": [
           {
            "line": {
             "colorbar": {
              "outlinewidth": 0,
              "ticks": ""
             }
            },
            "type": "parcoords"
           }
          ],
          "pie": [
           {
            "automargin": true,
            "type": "pie"
           }
          ],
          "scatter": [
           {
            "fillpattern": {
             "fillmode": "overlay",
             "size": 10,
             "solidity": 0.2
            },
            "type": "scatter"
           }
          ],
          "scatter3d": [
           {
            "line": {
             "colorbar": {
              "outlinewidth": 0,
              "ticks": ""
             }
            },
            "marker": {
             "colorbar": {
              "outlinewidth": 0,
              "ticks": ""
             }
            },
            "type": "scatter3d"
           }
          ],
          "scattercarpet": [
           {
            "marker": {
             "colorbar": {
              "outlinewidth": 0,
              "ticks": ""
             }
            },
            "type": "scattercarpet"
           }
          ],
          "scattergeo": [
           {
            "marker": {
             "colorbar": {
              "outlinewidth": 0,
              "ticks": ""
             }
            },
            "type": "scattergeo"
           }
          ],
          "scattergl": [
           {
            "marker": {
             "colorbar": {
              "outlinewidth": 0,
              "ticks": ""
             }
            },
            "type": "scattergl"
           }
          ],
          "scattermapbox": [
           {
            "marker": {
             "colorbar": {
              "outlinewidth": 0,
              "ticks": ""
             }
            },
            "type": "scattermapbox"
           }
          ],
          "scatterpolar": [
           {
            "marker": {
             "colorbar": {
              "outlinewidth": 0,
              "ticks": ""
             }
            },
            "type": "scatterpolar"
           }
          ],
          "scatterpolargl": [
           {
            "marker": {
             "colorbar": {
              "outlinewidth": 0,
              "ticks": ""
             }
            },
            "type": "scatterpolargl"
           }
          ],
          "scatterternary": [
           {
            "marker": {
             "colorbar": {
              "outlinewidth": 0,
              "ticks": ""
             }
            },
            "type": "scatterternary"
           }
          ],
          "surface": [
           {
            "colorbar": {
             "outlinewidth": 0,
             "ticks": ""
            },
            "colorscale": [
             [
              0,
              "#0d0887"
             ],
             [
              0.1111111111111111,
              "#46039f"
             ],
             [
              0.2222222222222222,
              "#7201a8"
             ],
             [
              0.3333333333333333,
              "#9c179e"
             ],
             [
              0.4444444444444444,
              "#bd3786"
             ],
             [
              0.5555555555555556,
              "#d8576b"
             ],
             [
              0.6666666666666666,
              "#ed7953"
             ],
             [
              0.7777777777777778,
              "#fb9f3a"
             ],
             [
              0.8888888888888888,
              "#fdca26"
             ],
             [
              1,
              "#f0f921"
             ]
            ],
            "type": "surface"
           }
          ],
          "table": [
           {
            "cells": {
             "fill": {
              "color": "#EBF0F8"
             },
             "line": {
              "color": "white"
             }
            },
            "header": {
             "fill": {
              "color": "#C8D4E3"
             },
             "line": {
              "color": "white"
             }
            },
            "type": "table"
           }
          ]
         },
         "layout": {
          "annotationdefaults": {
           "arrowcolor": "#2a3f5f",
           "arrowhead": 0,
           "arrowwidth": 1
          },
          "autotypenumbers": "strict",
          "coloraxis": {
           "colorbar": {
            "outlinewidth": 0,
            "ticks": ""
           }
          },
          "colorscale": {
           "diverging": [
            [
             0,
             "#8e0152"
            ],
            [
             0.1,
             "#c51b7d"
            ],
            [
             0.2,
             "#de77ae"
            ],
            [
             0.3,
             "#f1b6da"
            ],
            [
             0.4,
             "#fde0ef"
            ],
            [
             0.5,
             "#f7f7f7"
            ],
            [
             0.6,
             "#e6f5d0"
            ],
            [
             0.7,
             "#b8e186"
            ],
            [
             0.8,
             "#7fbc41"
            ],
            [
             0.9,
             "#4d9221"
            ],
            [
             1,
             "#276419"
            ]
           ],
           "sequential": [
            [
             0,
             "#0d0887"
            ],
            [
             0.1111111111111111,
             "#46039f"
            ],
            [
             0.2222222222222222,
             "#7201a8"
            ],
            [
             0.3333333333333333,
             "#9c179e"
            ],
            [
             0.4444444444444444,
             "#bd3786"
            ],
            [
             0.5555555555555556,
             "#d8576b"
            ],
            [
             0.6666666666666666,
             "#ed7953"
            ],
            [
             0.7777777777777778,
             "#fb9f3a"
            ],
            [
             0.8888888888888888,
             "#fdca26"
            ],
            [
             1,
             "#f0f921"
            ]
           ],
           "sequentialminus": [
            [
             0,
             "#0d0887"
            ],
            [
             0.1111111111111111,
             "#46039f"
            ],
            [
             0.2222222222222222,
             "#7201a8"
            ],
            [
             0.3333333333333333,
             "#9c179e"
            ],
            [
             0.4444444444444444,
             "#bd3786"
            ],
            [
             0.5555555555555556,
             "#d8576b"
            ],
            [
             0.6666666666666666,
             "#ed7953"
            ],
            [
             0.7777777777777778,
             "#fb9f3a"
            ],
            [
             0.8888888888888888,
             "#fdca26"
            ],
            [
             1,
             "#f0f921"
            ]
           ]
          },
          "colorway": [
           "#636efa",
           "#EF553B",
           "#00cc96",
           "#ab63fa",
           "#FFA15A",
           "#19d3f3",
           "#FF6692",
           "#B6E880",
           "#FF97FF",
           "#FECB52"
          ],
          "font": {
           "color": "#2a3f5f"
          },
          "geo": {
           "bgcolor": "white",
           "lakecolor": "white",
           "landcolor": "#E5ECF6",
           "showlakes": true,
           "showland": true,
           "subunitcolor": "white"
          },
          "hoverlabel": {
           "align": "left"
          },
          "hovermode": "closest",
          "mapbox": {
           "style": "light"
          },
          "paper_bgcolor": "white",
          "plot_bgcolor": "#E5ECF6",
          "polar": {
           "angularaxis": {
            "gridcolor": "white",
            "linecolor": "white",
            "ticks": ""
           },
           "bgcolor": "#E5ECF6",
           "radialaxis": {
            "gridcolor": "white",
            "linecolor": "white",
            "ticks": ""
           }
          },
          "scene": {
           "xaxis": {
            "backgroundcolor": "#E5ECF6",
            "gridcolor": "white",
            "gridwidth": 2,
            "linecolor": "white",
            "showbackground": true,
            "ticks": "",
            "zerolinecolor": "white"
           },
           "yaxis": {
            "backgroundcolor": "#E5ECF6",
            "gridcolor": "white",
            "gridwidth": 2,
            "linecolor": "white",
            "showbackground": true,
            "ticks": "",
            "zerolinecolor": "white"
           },
           "zaxis": {
            "backgroundcolor": "#E5ECF6",
            "gridcolor": "white",
            "gridwidth": 2,
            "linecolor": "white",
            "showbackground": true,
            "ticks": "",
            "zerolinecolor": "white"
           }
          },
          "shapedefaults": {
           "line": {
            "color": "#2a3f5f"
           }
          },
          "ternary": {
           "aaxis": {
            "gridcolor": "white",
            "linecolor": "white",
            "ticks": ""
           },
           "baxis": {
            "gridcolor": "white",
            "linecolor": "white",
            "ticks": ""
           },
           "bgcolor": "#E5ECF6",
           "caxis": {
            "gridcolor": "white",
            "linecolor": "white",
            "ticks": ""
           }
          },
          "title": {
           "x": 0.05
          },
          "xaxis": {
           "automargin": true,
           "gridcolor": "white",
           "linecolor": "white",
           "ticks": "",
           "title": {
            "standoff": 15
           },
           "zerolinecolor": "white",
           "zerolinewidth": 2
          },
          "yaxis": {
           "automargin": true,
           "gridcolor": "white",
           "linecolor": "white",
           "ticks": "",
           "title": {
            "standoff": 15
           },
           "zerolinecolor": "white",
           "zerolinewidth": 2
          }
         }
        },
        "title": {
         "font": {
          "size": 35
         },
         "text": "Category Counts",
         "x": 0.5
        },
        "width": 800,
        "xaxis": {
         "anchor": "y",
         "autorange": true,
         "domain": [
          0,
          1
         ],
         "range": [
          -0.5,
          8.5
         ],
         "showgrid": false,
         "title": {
          "text": "Category"
         },
         "type": "category"
        },
        "yaxis": {
         "anchor": "x",
         "autorange": true,
         "domain": [
          0,
          1
         ],
         "range": [
          0,
          17754.736842105263
         ],
         "showgrid": false,
         "title": {
          "text": "Value"
         },
         "type": "linear"
        }
       }
      },
      "image/png": "[encoded data removed]",
      "text/html": [
       "<div>                            <div id=\"3f2a1c64-7ddb-4b9a-aacc-db981bf081f3\" class=\"plotly-graph-div\" style=\"height:500px; width:800px;\"></div>            <script type=\"text/javascript\">                require([\"plotly\"], function(Plotly) {                    window.PLOTLYENV=window.PLOTLYENV || {};                                    if (document.getElementById(\"3f2a1c64-7ddb-4b9a-aacc-db981bf081f3\")) {                    Plotly.newPlot(                        \"3f2a1c64-7ddb-4b9a-aacc-db981bf081f3\",                        [{\"alignmentgroup\":\"True\",\"hovertemplate\":\"Category:'%{x}' Counted: %{y}\",\"legendgroup\":\"Vulnerability_Scan\",\"marker\":{\"color\":\"#636efa\",\"pattern\":{\"shape\":\"\"}},\"name\":\"Vulnerability_Scan\",\"offsetgroup\":\"Vulnerability_Scan\",\"orientation\":\"v\",\"showlegend\":true,\"text\":[16867.0],\"textposition\":\"auto\",\"x\":[\"Vulnerability_Scan\"],\"xaxis\":\"x\",\"y\":[16867],\"yaxis\":\"y\",\"type\":\"bar\"},{\"alignmentgroup\":\"True\",\"hovertemplate\":\"Category:'%{x}' Counted: %{y}\",\"legendgroup\":\"System_Cmd_Execution\",\"marker\":{\"color\":\"#EF553B\",\"pattern\":{\"shape\":\"\"}},\"name\":\"System_Cmd_Execution\",\"offsetgroup\":\"System_Cmd_Execution\",\"orientation\":\"v\",\"showlegend\":true,\"text\":[9807.0],\"textposition\":\"auto\",\"x\":[\"System_Cmd_Execution\"],\"xaxis\":\"x\",\"y\":[9807],\"yaxis\":\"y\",\"type\":\"bar\"},{\"alignmentgroup\":\"True\",\"hovertemplate\":\"Category:'%{x}' Counted: %{y}\",\"legendgroup\":\"HOST_Scan\",\"marker\":{\"color\":\"#00cc96\",\"pattern\":{\"shape\":\"\"}},\"name\":\"HOST_Scan\",\"offsetgroup\":\"HOST_Scan\",\"orientation\":\"v\",\"showlegend\":true,\"text\":[6315.0],\"textposition\":\"auto\",\"x\":[\"HOST_Scan\"],\"xaxis\":\"x\",\"y\":[6315],\"yaxis\":\"y\",\"type\":\"bar\"},{\"alignmentgroup\":\"True\",\"hovertemplate\":\"Category:'%{x}' Counted: %{y}\",\"legendgroup\":\"Path_Disclosure\",\"marker\":{\"color\":\"#ab63fa\",\"pattern\":{\"shape\":\"\"}},\"name\":\"Path_Disclosure\",\"offsetgroup\":\"Path_Disclosure\",\"orientation\":\"v\",\"showlegend\":true,\"text\":[4775.0],\"textposition\":\"auto\",\"x\":[\"Path_Disclosure\"],\"xaxis\":\"x\",\"y\":[4775],\"yaxis\":\"y\",\"type\":\"bar\"},{\"alignmentgroup\":\"True\",\"hovertemplate\":\"Category:'%{x}' Counted: %{y}\",\"legendgroup\":\"SQL_Injection\",\"marker\":{\"color\":\"#FFA15A\",\"pattern\":{\"shape\":\"\"}},\"name\":\"SQL_Injection\",\"offsetgroup\":\"SQL_Injection\",\"orientation\":\"v\",\"showlegend\":true,\"text\":[3395.0],\"textposition\":\"auto\",\"x\":[\"SQL_Injection\"],\"xaxis\":\"x\",\"y\":[3395],\"yaxis\":\"y\",\"type\":\"bar\"},{\"alignmentgroup\":\"True\",\"hovertemplate\":\"Category:'%{x}' Counted: %{y}\",\"legendgroup\":\"Cross_Site_Scripting\",\"marker\":{\"color\":\"#19d3f3\",\"pattern\":{\"shape\":\"\"}},\"name\":\"Cross_Site_Scripting\",\"offsetgroup\":\"Cross_Site_Scripting\",\"orientation\":\"v\",\"showlegend\":true,\"text\":[1348.0],\"textposition\":\"auto\",\"x\":[\"Cross_Site_Scripting\"],\"xaxis\":\"x\",\"y\":[1348],\"yaxis\":\"y\",\"type\":\"bar\"},{\"alignmentgroup\":\"True\",\"hovertemplate\":\"Category:'%{x}' Counted: %{y}\",\"legendgroup\":\"Automatically_Searching_Infor\",\"marker\":{\"color\":\"#FF6692\",\"pattern\":{\"shape\":\"\"}},\"name\":\"Automatically_Searching_Infor\",\"offsetgroup\":\"Automatically_Searching_Infor\",\"orientation\":\"v\",\"showlegend\":true,\"text\":[1119.0],\"textposition\":\"auto\",\"x\":[\"Automatically_Searching_Infor\"],\"xaxis\":\"x\",\"y\":[1119],\"yaxis\":\"y\",\"type\":\"bar\"},{\"alignmentgroup\":\"True\",\"hovertemplate\":\"Category:'%{x}' Counted: %{y}\",\"legendgroup\":\"Leakage_Through_NW\",\"marker\":{\"color\":\"#B6E880\",\"pattern\":{\"shape\":\"\"}},\"name\":\"Leakage_Through_NW\",\"offsetgroup\":\"Leakage_Through_NW\",\"orientation\":\"v\",\"showlegend\":true,\"text\":[956.0],\"textposition\":\"auto\",\"x\":[\"Leakage_Through_NW\"],\"xaxis\":\"x\",\"y\":[956],\"yaxis\":\"y\",\"type\":\"bar\"},{\"alignmentgroup\":\"True\",\"hovertemplate\":\"Category:'%{x}' Counted: %{y}\",\"legendgroup\":\"Directory_Indexing\",\"marker\":{\"color\":\"#FF97FF\",\"pattern\":{\"shape\":\"\"}},\"name\":\"Directory_Indexing\",\"offsetgroup\":\"Directory_Indexing\",\"orientation\":\"v\",\"showlegend\":true,\"text\":[418.0],\"textposition\":\"auto\",\"x\":[\"Directory_Indexing\"],\"xaxis\":\"x\",\"y\":[418],\"yaxis\":\"y\",\"type\":\"bar\"}],                        {\"barmode\":\"relative\",\"height\":500,\"legend\":{\"title\":{\"text\":\"color\"},\"tracegroupgap\":0},\"margin\":{\"t\":60},\"plot_bgcolor\":\"white\",\"showlegend\":false,\"template\":{\"data\":{\"barpolar\":[{\"marker\":{\"line\":{\"color\":\"#E5ECF6\",\"width\":0.5},\"pattern\":{\"fillmode\":\"overlay\",\"size\":10,\"solidity\":0.2}},\"type\":\"barpolar\"}],\"bar\":[{\"error_x\":{\"color\":\"#2a3f5f\"},\"error_y\":{\"color\":\"#2a3f5f\"},\"marker\":{\"line\":{\"color\":\"#E5ECF6\",\"width\":0.5},\"pattern\":{\"fillmode\":\"overlay\",\"size\":10,\"solidity\":0.2}},\"type\":\"bar\"}],\"carpet\":[{\"aaxis\":{\"endlinecolor\":\"#2a3f5f\",\"gridcolor\":\"white\",\"linecolor\":\"white\",\"minorgridcolor\":\"white\",\"startlinecolor\":\"#2a3f5f\"},\"baxis\":{\"endlinecolor\":\"#2a3f5f\",\"gridcolor\":\"white\",\"linecolor\":\"white\",\"minorgridcolor\":\"white\",\"startlinecolor\":\"#2a3f5f\"},\"type\":\"carpet\"}],\"choropleth\":[{\"colorbar\":{\"outlinewidth\":0,\"ticks\":\"\"},\"type\":\"choropleth\"}],\"contourcarpet\":[{\"colorbar\":{\"outlinewidth\":0,\"ticks\":\"\"},\"type\":\"contourcarpet\"}],\"contour\":[{\"colorbar\":{\"outlinewidth\":0,\"ticks\":\"\"},\"colorscale\":[[0.0,\"#0d0887\"],[0.1111111111111111,\"#46039f\"],[0.2222222222222222,\"#7201a8\"],[0.3333333333333333,\"#9c179e\"],[0.4444444444444444,\"#bd3786\"],[0.5555555555555556,\"#d8576b\"],[0.6666666666666666,\"#ed7953\"],[0.7777777777777778,\"#fb9f3a\"],[0.8888888888888888,\"#fdca26\"],[1.0,\"#f0f921\"]],\"type\":\"contour\"}],\"heatmapgl\":[{\"colorbar\":{\"outlinewidth\":0,\"ticks\":\"\"},\"colorscale\":[[0.0,\"#0d0887\"],[0.1111111111111111,\"#46039f\"],[0.2222222222222222,\"#7201a8\"],[0.3333333333333333,\"#9c179e\"],[0.4444444444444444,\"#bd3786\"],[0.5555555555555556,\"#d8576b\"],[0.6666666666666666,\"#ed7953\"],[0.7777777777777778,\"#fb9f3a\"],[0.8888888888888888,\"#fdca26\"],[1.0,\"#f0f921\"]],\"type\":\"heatmapgl\"}],\"heatmap\":[{\"colorbar\":{\"outlinewidth\":0,\"ticks\":\"\"},\"colorscale\":[[0.0,\"#0d0887\"],[0.1111111111111111,\"#46039f\"],[0.2222222222222222,\"#7201a8\"],[0.3333333333333333,\"#9c179e\"],[0.4444444444444444,\"#bd3786\"],[0.5555555555555556,\"#d8576b\"],[0.6666666666666666,\"#ed7953\"],[0.7777777777777778,\"#fb9f3a\"],[0.8888888888888888,\"#fdca26\"],[1.0,\"#f0f921\"]],\"type\":\"heatmap\"}],\"histogram2dcontour\":[{\"colorbar\":{\"outlinewidth\":0,\"ticks\":\"\"},\"colorscale\":[[0.0,\"#0d0887\"],[0.1111111111111111,\"#46039f\"],[0.2222222222222222,\"#7201a8\"],[0.3333333333333333,\"#9c179e\"],[0.4444444444444444,\"#bd3786\"],[0.5555555555555556,\"#d8576b\"],[0.6666666666666666,\"#ed7953\"],[0.7777777777777778,\"#fb9f3a\"],[0.8888888888888888,\"#fdca26\"],[1.0,\"#f0f921\"]],\"type\":\"histogram2dcontour\"}],\"histogram2d\":[{\"colorbar\":{\"outlinewidth\":0,\"ticks\":\"\"},\"colorscale\":[[0.0,\"#0d0887\"],[0.1111111111111111,\"#46039f\"],[0.2222222222222222,\"#7201a8\"],[0.3333333333333333,\"#9c179e\"],[0.4444444444444444,\"#bd3786\"],[0.5555555555555556,\"#d8576b\"],[0.6666666666666666,\"#ed7953\"],[0.7777777777777778,\"#fb9f3a\"],[0.8888888888888888,\"#fdca26\"],[1.0,\"#f0f921\"]],\"type\":\"histogram2d\"}],\"histogram\":[{\"marker\":{\"pattern\":{\"fillmode\":\"overlay\",\"size\":10,\"solidity\":0.2}},\"type\":\"histogram\"}],\"mesh3d\":[{\"colorbar\":{\"outlinewidth\":0,\"ticks\":\"\"},\"type\":\"mesh3d\"}],\"parcoords\":[{\"line\":{\"colorbar\":{\"outlinewidth\":0,\"ticks\":\"\"}},\"type\":\"parcoords\"}],\"pie\":[{\"automargin\":true,\"type\":\"pie\"}],\"scatter3d\":[{\"line\":{\"colorbar\":{\"outlinewidth\":0,\"ticks\":\"\"}},\"marker\":{\"colorbar\":{\"outlinewidth\":0,\"ticks\":\"\"}},\"type\":\"scatter3d\"}],\"scattercarpet\":[{\"marker\":{\"colorbar\":{\"outlinewidth\":0,\"ticks\":\"\"}},\"type\":\"scattercarpet\"}],\"scattergeo\":[{\"marker\":{\"colorbar\":{\"outlinewidth\":0,\"ticks\":\"\"}},\"type\":\"scattergeo\"}],\"scattergl\":[{\"marker\":{\"colorbar\":{\"outlinewidth\":0,\"ticks\":\"\"}},\"type\":\"scattergl\"}],\"scattermapbox\":[{\"marker\":{\"colorbar\":{\"outlinewidth\":0,\"ticks\":\"\"}},\"type\":\"scattermapbox\"}],\"scatterpolargl\":[{\"marker\":{\"colorbar\":{\"outlinewidth\":0,\"ticks\":\"\"}},\"type\":\"scatterpolargl\"}],\"scatterpolar\":[{\"marker\":{\"colorbar\":{\"outlinewidth\":0,\"ticks\":\"\"}},\"type\":\"scatterpolar\"}],\"scatter\":[{\"fillpattern\":{\"fillmode\":\"overlay\",\"size\":10,\"solidity\":0.2},\"type\":\"scatter\"}],\"scatterternary\":[{\"marker\":{\"colorbar\":{\"outlinewidth\":0,\"ticks\":\"\"}},\"type\":\"scatterternary\"}],\"surface\":[{\"colorbar\":{\"outlinewidth\":0,\"ticks\":\"\"},\"colorscale\":[[0.0,\"#0d0887\"],[0.1111111111111111,\"#46039f\"],[0.2222222222222222,\"#7201a8\"],[0.3333333333333333,\"#9c179e\"],[0.4444444444444444,\"#bd3786\"],[0.5555555555555556,\"#d8576b\"],[0.6666666666666666,\"#ed7953\"],[0.7777777777777778,\"#fb9f3a\"],[0.8888888888888888,\"#fdca26\"],[1.0,\"#f0f921\"]],\"type\":\"surface\"}],\"table\":[{\"cells\":{\"fill\":{\"color\":\"#EBF0F8\"},\"line\":{\"color\":\"white\"}},\"header\":{\"fill\":{\"color\":\"#C8D4E3\"},\"line\":{\"color\":\"white\"}},\"type\":\"table\"}]},\"layout\":{\"annotationdefaults\":{\"arrowcolor\":\"#2a3f5f\",\"arrowhead\":0,\"arrowwidth\":1},\"autotypenumbers\":\"strict\",\"coloraxis\":{\"colorbar\":{\"outlinewidth\":0,\"ticks\":\"\"}},\"colorscale\":{\"diverging\":[[0,\"#8e0152\"],[0.1,\"#c51b7d\"],[0.2,\"#de77ae\"],[0.3,\"#f1b6da\"],[0.4,\"#fde0ef\"],[0.5,\"#f7f7f7\"],[0.6,\"#e6f5d0\"],[0.7,\"#b8e186\"],[0.8,\"#7fbc41\"],[0.9,\"#4d9221\"],[1,\"#276419\"]],\"sequential\":[[0.0,\"#0d0887\"],[0.1111111111111111,\"#46039f\"],[0.2222222222222222,\"#7201a8\"],[0.3333333333333333,\"#9c179e\"],[0.4444444444444444,\"#bd3786\"],[0.5555555555555556,\"#d8576b\"],[0.6666666666666666,\"#ed7953\"],[0.7777777777777778,\"#fb9f3a\"],[0.8888888888888888,\"#fdca26\"],[1.0,\"#f0f921\"]],\"sequentialminus\":[[0.0,\"#0d0887\"],[0.1111111111111111,\"#46039f\"],[0.2222222222222222,\"#7201a8\"],[0.3333333333333333,\"#9c179e\"],[0.4444444444444444,\"#bd3786\"],[0.5555555555555556,\"#d8576b\"],[0.6666666666666666,\"#ed7953\"],[0.7777777777777778,\"#fb9f3a\"],[0.8888888888888888,\"#fdca26\"],[1.0,\"#f0f921\"]]},\"colorway\":[\"#636efa\",\"#EF553B\",\"#00cc96\",\"#ab63fa\",\"#FFA15A\",\"#19d3f3\",\"#FF6692\",\"#B6E880\",\"#FF97FF\",\"#FECB52\"],\"font\":{\"color\":\"#2a3f5f\"},\"geo\":{\"bgcolor\":\"white\",\"lakecolor\":\"white\",\"landcolor\":\"#E5ECF6\",\"showlakes\":true,\"showland\":true,\"subunitcolor\":\"white\"},\"hoverlabel\":{\"align\":\"left\"},\"hovermode\":\"closest\",\"mapbox\":{\"style\":\"light\"},\"paper_bgcolor\":\"white\",\"plot_bgcolor\":\"#E5ECF6\",\"polar\":{\"angularaxis\":{\"gridcolor\":\"white\",\"linecolor\":\"white\",\"ticks\":\"\"},\"bgcolor\":\"#E5ECF6\",\"radialaxis\":{\"gridcolor\":\"white\",\"linecolor\":\"white\",\"ticks\":\"\"}},\"scene\":{\"xaxis\":{\"backgroundcolor\":\"#E5ECF6\",\"gridcolor\":\"white\",\"gridwidth\":2,\"linecolor\":\"white\",\"showbackground\":true,\"ticks\":\"\",\"zerolinecolor\":\"white\"},\"yaxis\":{\"backgroundcolor\":\"#E5ECF6\",\"gridcolor\":\"white\",\"gridwidth\":2,\"linecolor\":\"white\",\"showbackground\":true,\"ticks\":\"\",\"zerolinecolor\":\"white\"},\"zaxis\":{\"backgroundcolor\":\"#E5ECF6\",\"gridcolor\":\"white\",\"gridwidth\":2,\"linecolor\":\"white\",\"showbackground\":true,\"ticks\":\"\",\"zerolinecolor\":\"white\"}},\"shapedefaults\":{\"line\":{\"color\":\"#2a3f5f\"}},\"ternary\":{\"aaxis\":{\"gridcolor\":\"white\",\"linecolor\":\"white\",\"ticks\":\"\"},\"baxis\":{\"gridcolor\":\"white\",\"linecolor\":\"white\",\"ticks\":\"\"},\"bgcolor\":\"#E5ECF6\",\"caxis\":{\"gridcolor\":\"white\",\"linecolor\":\"white\",\"ticks\":\"\"}},\"title\":{\"x\":0.05},\"xaxis\":{\"automargin\":true,\"gridcolor\":\"white\",\"linecolor\":\"white\",\"ticks\":\"\",\"title\":{\"standoff\":15},\"zerolinecolor\":\"white\",\"zerolinewidth\":2},\"yaxis\":{\"automargin\":true,\"gridcolor\":\"white\",\"linecolor\":\"white\",\"ticks\":\"\",\"title\":{\"standoff\":15},\"zerolinecolor\":\"white\",\"zerolinewidth\":2}}},\"title\":{\"font\":{\"size\":35},\"text\":\"Category Counts\",\"x\":0.5},\"width\":800,\"xaxis\":{\"anchor\":\"y\",\"domain\":[0.0,1.0],\"showgrid\":false,\"title\":{\"text\":\"Category\"}},\"yaxis\":{\"anchor\":\"x\",\"domain\":[0.0,1.0],\"showgrid\":false,\"title\":{\"text\":\"Value\"}}},                        {\"responsive\": true}                    ).then(function(){\n",
       "                            \n",
       "var gd = document.getElementById('3f2a1c64-7ddb-4b9a-aacc-db981bf081f3');\n",
       "var x = new MutationObserver(function (mutations, observer) {{\n",
       "        var display = window.getComputedStyle(gd).display;\n",
       "        if (!display || display === 'none') {{\n",
       "            console.log([gd, 'removed!']);\n",
       "            Plotly.purge(gd);\n",
       "            observer.disconnect();\n",
       "        }}\n",
       "}});\n",
       "\n",
       "// Listen for the removal of the full notebook cells\n",
       "var notebookContainer = gd.closest('#notebook-container');\n",
       "if (notebookContainer) {{\n",
       "    x.observe(notebookContainer, {childList: true});\n",
       "}}\n",
       "\n",
       "// Listen for the clearing of the current output cell\n",
       "var outputEl = gd.closest('.output');\n",
       "if (outputEl) {{\n",
       "    x.observe(outputEl, {childList: true});\n",
       "}}\n",
       "\n",
       "                        })                };                });            </script>        </div>"
      ]
     },
     "metadata": {},
     "output_type": "display_data"
    }
   ],
   "source": [
    "import plotly.graph_objects as go\n",
    "from plotly.offline import iplot, init_notebook_mode\n",
    "import plotly.express as px\n",
    "import plotly.io as pio\n",
    "\n",
    "init_notebook_mode(True)\n",
    "\n",
    "fig = px.bar(x=data['label_action'].value_counts().index,y=data['label_action'].value_counts(),color=data['label_action'].value_counts().index,text=data['label_action'].value_counts())\n",
    "fig.update_traces(hovertemplate=\"Category:'%{x}' Counted: %{y}\")\n",
    "fig.update_layout(title={\"text\":\"Category Counts\",\"x\":0.5,\"font\":{\"size\":35}},xaxis={\"title\":\"Category\",\"showgrid\":False},yaxis={\"title\":\"Value\",\"showgrid\":False},plot_bgcolor=\"white\",width=800,height=500,showlegend=False)\n",
    "iplot(fig)"
   ]
  },
  {
   "cell_type": "code",
   "execution_count": 20,
   "metadata": {
    "papermill": {
     "duration": 0.393226,
     "end_time": "2020-08-30T14:35:57.744732",
     "exception": false,
     "start_time": "2020-08-30T14:35:57.351506",
     "status": "completed"
    },
    "tags": []
   },
   "outputs": [],
   "source": [
    "# fig1 = px.pie(data,values=data.category.value_counts(),names=data.category.value_counts().index)\n",
    "# fig1.update_traces(textposition='auto', textinfo='percent+label',marker={\"line\":{\"width\":1}},hoverinfo='label+percent',hole=0.4)\n",
    "# fig1.update_layout(annotations=[{\"text\":\"Percentages\",\"showarrow\":False,\"font_size\":17}])\n",
    "# iplot(fig1)"
   ]
  },
  {
   "cell_type": "code",
   "execution_count": 21,
   "metadata": {
    "tags": []
   },
   "outputs": [
    {
     "data": {
      "application/vnd.plotly.v1+json": {
       "config": {
        "linkText": "Export to plot.ly",
        "plotlyServerURL": "https://plot.ly",
        "showLink": false
       },
       "data": [
        {
         "domain": {
          "x": [
           0,
           1
          ],
          "y": [
           0,
           1
          ]
         },
         "hole": 0.4,
         "hoverinfo": "label+percent",
         "hovertemplate": "label=%{label}<br>value=%{value}<extra></extra>",
         "labels": [
          "Vulnerability_Scan",
          "System_Cmd_Execution",
          "HOST_Scan",
          "Path_Disclosure",
          "SQL_Injection",
          "Cross_Site_Scripting",
          "Automatically_Searching_Infor",
          "Leakage_Through_NW",
          "Directory_Indexing"
         ],
         "legendgroup": "",
         "marker": {
          "line": {
           "width": 1
          }
         },
         "name": "",
         "showlegend": true,
         "textinfo": "percent+label",
         "textposition": "auto",
         "type": "pie",
         "values": [
          16867,
          9807,
          6315,
          4775,
          3395,
          1348,
          1119,
          956,
          418
         ]
        }
       ],
       "layout": {
        "annotations": [
         {
          "font": {
           "size": 17
          },
          "showarrow": false,
          "text": "Percentages"
         }
        ],
        "autosize": true,
        "legend": {
         "tracegroupgap": 0
        },
        "margin": {
         "t": 60
        },
        "template": {
         "data": {
          "bar": [
           {
            "error_x": {
             "color": "#2a3f5f"
            },
            "error_y": {
             "color": "#2a3f5f"
            },
            "marker": {
             "line": {
              "color": "#E5ECF6",
              "width": 0.5
             },
             "pattern": {
              "fillmode": "overlay",
              "size": 10,
              "solidity": 0.2
             }
            },
            "type": "bar"
           }
          ],
          "barpolar": [
           {
            "marker": {
             "line": {
              "color": "#E5ECF6",
              "width": 0.5
             },
             "pattern": {
              "fillmode": "overlay",
              "size": 10,
              "solidity": 0.2
             }
            },
            "type": "barpolar"
           }
          ],
          "carpet": [
           {
            "aaxis": {
             "endlinecolor": "#2a3f5f",
             "gridcolor": "white",
             "linecolor": "white",
             "minorgridcolor": "white",
             "startlinecolor": "#2a3f5f"
            },
            "baxis": {
             "endlinecolor": "#2a3f5f",
             "gridcolor": "white",
             "linecolor": "white",
             "minorgridcolor": "white",
             "startlinecolor": "#2a3f5f"
            },
            "type": "carpet"
           }
          ],
          "choropleth": [
           {
            "colorbar": {
             "outlinewidth": 0,
             "ticks": ""
            },
            "type": "choropleth"
           }
          ],
          "contour": [
           {
            "colorbar": {
             "outlinewidth": 0,
             "ticks": ""
            },
            "colorscale": [
             [
              0,
              "#0d0887"
             ],
             [
              0.1111111111111111,
              "#46039f"
             ],
             [
              0.2222222222222222,
              "#7201a8"
             ],
             [
              0.3333333333333333,
              "#9c179e"
             ],
             [
              0.4444444444444444,
              "#bd3786"
             ],
             [
              0.5555555555555556,
              "#d8576b"
             ],
             [
              0.6666666666666666,
              "#ed7953"
             ],
             [
              0.7777777777777778,
              "#fb9f3a"
             ],
             [
              0.8888888888888888,
              "#fdca26"
             ],
             [
              1,
              "#f0f921"
             ]
            ],
            "type": "contour"
           }
          ],
          "contourcarpet": [
           {
            "colorbar": {
             "outlinewidth": 0,
             "ticks": ""
            },
            "type": "contourcarpet"
           }
          ],
          "heatmap": [
           {
            "colorbar": {
             "outlinewidth": 0,
             "ticks": ""
            },
            "colorscale": [
             [
              0,
              "#0d0887"
             ],
             [
              0.1111111111111111,
              "#46039f"
             ],
             [
              0.2222222222222222,
              "#7201a8"
             ],
             [
              0.3333333333333333,
              "#9c179e"
             ],
             [
              0.4444444444444444,
              "#bd3786"
             ],
             [
              0.5555555555555556,
              "#d8576b"
             ],
             [
              0.6666666666666666,
              "#ed7953"
             ],
             [
              0.7777777777777778,
              "#fb9f3a"
             ],
             [
              0.8888888888888888,
              "#fdca26"
             ],
             [
              1,
              "#f0f921"
             ]
            ],
            "type": "heatmap"
           }
          ],
          "heatmapgl": [
           {
            "colorbar": {
             "outlinewidth": 0,
             "ticks": ""
            },
            "colorscale": [
             [
              0,
              "#0d0887"
             ],
             [
              0.1111111111111111,
              "#46039f"
             ],
             [
              0.2222222222222222,
              "#7201a8"
             ],
             [
              0.3333333333333333,
              "#9c179e"
             ],
             [
              0.4444444444444444,
              "#bd3786"
             ],
             [
              0.5555555555555556,
              "#d8576b"
             ],
             [
              0.6666666666666666,
              "#ed7953"
             ],
             [
              0.7777777777777778,
              "#fb9f3a"
             ],
             [
              0.8888888888888888,
              "#fdca26"
             ],
             [
              1,
              "#f0f921"
             ]
            ],
            "type": "heatmapgl"
           }
          ],
          "histogram": [
           {
            "marker": {
             "pattern": {
              "fillmode": "overlay",
              "size": 10,
              "solidity": 0.2
             }
            },
            "type": "histogram"
           }
          ],
          "histogram2d": [
           {
            "colorbar": {
             "outlinewidth": 0,
             "ticks": ""
            },
            "colorscale": [
             [
              0,
              "#0d0887"
             ],
             [
              0.1111111111111111,
              "#46039f"
             ],
             [
              0.2222222222222222,
              "#7201a8"
             ],
             [
              0.3333333333333333,
              "#9c179e"
             ],
             [
              0.4444444444444444,
              "#bd3786"
             ],
             [
              0.5555555555555556,
              "#d8576b"
             ],
             [
              0.6666666666666666,
              "#ed7953"
             ],
             [
              0.7777777777777778,
              "#fb9f3a"
             ],
             [
              0.8888888888888888,
              "#fdca26"
             ],
             [
              1,
              "#f0f921"
             ]
            ],
            "type": "histogram2d"
           }
          ],
          "histogram2dcontour": [
           {
            "colorbar": {
             "outlinewidth": 0,
             "ticks": ""
            },
            "colorscale": [
             [
              0,
              "#0d0887"
             ],
             [
              0.1111111111111111,
              "#46039f"
             ],
             [
              0.2222222222222222,
              "#7201a8"
             ],
             [
              0.3333333333333333,
              "#9c179e"
             ],
             [
              0.4444444444444444,
              "#bd3786"
             ],
             [
              0.5555555555555556,
              "#d8576b"
             ],
             [
              0.6666666666666666,
              "#ed7953"
             ],
             [
              0.7777777777777778,
              "#fb9f3a"
             ],
             [
              0.8888888888888888,
              "#fdca26"
             ],
             [
              1,
              "#f0f921"
             ]
            ],
            "type": "histogram2dcontour"
           }
          ],
          "mesh3d": [
           {
            "colorbar": {
             "outlinewidth": 0,
             "ticks": ""
            },
            "type": "mesh3d"
           }
          ],
          "parcoords": [
           {
            "line": {
             "colorbar": {
              "outlinewidth": 0,
              "ticks": ""
             }
            },
            "type": "parcoords"
           }
          ],
          "pie": [
           {
            "automargin": true,
            "type": "pie"
           }
          ],
          "scatter": [
           {
            "fillpattern": {
             "fillmode": "overlay",
             "size": 10,
             "solidity": 0.2
            },
            "type": "scatter"
           }
          ],
          "scatter3d": [
           {
            "line": {
             "colorbar": {
              "outlinewidth": 0,
              "ticks": ""
             }
            },
            "marker": {
             "colorbar": {
              "outlinewidth": 0,
              "ticks": ""
             }
            },
            "type": "scatter3d"
           }
          ],
          "scattercarpet": [
           {
            "marker": {
             "colorbar": {
              "outlinewidth": 0,
              "ticks": ""
             }
            },
            "type": "scattercarpet"
           }
          ],
          "scattergeo": [
           {
            "marker": {
             "colorbar": {
              "outlinewidth": 0,
              "ticks": ""
             }
            },
            "type": "scattergeo"
           }
          ],
          "scattergl": [
           {
            "marker": {
             "colorbar": {
              "outlinewidth": 0,
              "ticks": ""
             }
            },
            "type": "scattergl"
           }
          ],
          "scattermapbox": [
           {
            "marker": {
             "colorbar": {
              "outlinewidth": 0,
              "ticks": ""
             }
            },
            "type": "scattermapbox"
           }
          ],
          "scatterpolar": [
           {
            "marker": {
             "colorbar": {
              "outlinewidth": 0,
              "ticks": ""
             }
            },
            "type": "scatterpolar"
           }
          ],
          "scatterpolargl": [
           {
            "marker": {
             "colorbar": {
              "outlinewidth": 0,
              "ticks": ""
             }
            },
            "type": "scatterpolargl"
           }
          ],
          "scatterternary": [
           {
            "marker": {
             "colorbar": {
              "outlinewidth": 0,
              "ticks": ""
             }
            },
            "type": "scatterternary"
           }
          ],
          "surface": [
           {
            "colorbar": {
             "outlinewidth": 0,
             "ticks": ""
            },
            "colorscale": [
             [
              0,
              "#0d0887"
             ],
             [
              0.1111111111111111,
              "#46039f"
             ],
             [
              0.2222222222222222,
              "#7201a8"
             ],
             [
              0.3333333333333333,
              "#9c179e"
             ],
             [
              0.4444444444444444,
              "#bd3786"
             ],
             [
              0.5555555555555556,
              "#d8576b"
             ],
             [
              0.6666666666666666,
              "#ed7953"
             ],
             [
              0.7777777777777778,
              "#fb9f3a"
             ],
             [
              0.8888888888888888,
              "#fdca26"
             ],
             [
              1,
              "#f0f921"
             ]
            ],
            "type": "surface"
           }
          ],
          "table": [
           {
            "cells": {
             "fill": {
              "color": "#EBF0F8"
             },
             "line": {
              "color": "white"
             }
            },
            "header": {
             "fill": {
              "color": "#C8D4E3"
             },
             "line": {
              "color": "white"
             }
            },
            "type": "table"
           }
          ]
         },
         "layout": {
          "annotationdefaults": {
           "arrowcolor": "#2a3f5f",
           "arrowhead": 0,
           "arrowwidth": 1
          },
          "autotypenumbers": "strict",
          "coloraxis": {
           "colorbar": {
            "outlinewidth": 0,
            "ticks": ""
           }
          },
          "colorscale": {
           "diverging": [
            [
             0,
             "#8e0152"
            ],
            [
             0.1,
             "#c51b7d"
            ],
            [
             0.2,
             "#de77ae"
            ],
            [
             0.3,
             "#f1b6da"
            ],
            [
             0.4,
             "#fde0ef"
            ],
            [
             0.5,
             "#f7f7f7"
            ],
            [
             0.6,
             "#e6f5d0"
            ],
            [
             0.7,
             "#b8e186"
            ],
            [
             0.8,
             "#7fbc41"
            ],
            [
             0.9,
             "#4d9221"
            ],
            [
             1,
             "#276419"
            ]
           ],
           "sequential": [
            [
             0,
             "#0d0887"
            ],
            [
             0.1111111111111111,
             "#46039f"
            ],
            [
             0.2222222222222222,
             "#7201a8"
            ],
            [
             0.3333333333333333,
             "#9c179e"
            ],
            [
             0.4444444444444444,
             "#bd3786"
            ],
            [
             0.5555555555555556,
             "#d8576b"
            ],
            [
             0.6666666666666666,
             "#ed7953"
            ],
            [
             0.7777777777777778,
             "#fb9f3a"
            ],
            [
             0.8888888888888888,
             "#fdca26"
            ],
            [
             1,
             "#f0f921"
            ]
           ],
           "sequentialminus": [
            [
             0,
             "#0d0887"
            ],
            [
             0.1111111111111111,
             "#46039f"
            ],
            [
             0.2222222222222222,
             "#7201a8"
            ],
            [
             0.3333333333333333,
             "#9c179e"
            ],
            [
             0.4444444444444444,
             "#bd3786"
            ],
            [
             0.5555555555555556,
             "#d8576b"
            ],
            [
             0.6666666666666666,
             "#ed7953"
            ],
            [
             0.7777777777777778,
             "#fb9f3a"
            ],
            [
             0.8888888888888888,
             "#fdca26"
            ],
            [
             1,
             "#f0f921"
            ]
           ]
          },
          "colorway": [
           "#636efa",
           "#EF553B",
           "#00cc96",
           "#ab63fa",
           "#FFA15A",
           "#19d3f3",
           "#FF6692",
           "#B6E880",
           "#FF97FF",
           "#FECB52"
          ],
          "font": {
           "color": "#2a3f5f"
          },
          "geo": {
           "bgcolor": "white",
           "lakecolor": "white",
           "landcolor": "#E5ECF6",
           "showlakes": true,
           "showland": true,
           "subunitcolor": "white"
          },
          "hoverlabel": {
           "align": "left"
          },
          "hovermode": "closest",
          "mapbox": {
           "style": "light"
          },
          "paper_bgcolor": "white",
          "plot_bgcolor": "#E5ECF6",
          "polar": {
           "angularaxis": {
            "gridcolor": "white",
            "linecolor": "white",
            "ticks": ""
           },
           "bgcolor": "#E5ECF6",
           "radialaxis": {
            "gridcolor": "white",
            "linecolor": "white",
            "ticks": ""
           }
          },
          "scene": {
           "xaxis": {
            "backgroundcolor": "#E5ECF6",
            "gridcolor": "white",
            "gridwidth": 2,
            "linecolor": "white",
            "showbackground": true,
            "ticks": "",
            "zerolinecolor": "white"
           },
           "yaxis": {
            "backgroundcolor": "#E5ECF6",
            "gridcolor": "white",
            "gridwidth": 2,
            "linecolor": "white",
            "showbackground": true,
            "ticks": "",
            "zerolinecolor": "white"
           },
           "zaxis": {
            "backgroundcolor": "#E5ECF6",
            "gridcolor": "white",
            "gridwidth": 2,
            "linecolor": "white",
            "showbackground": true,
            "ticks": "",
            "zerolinecolor": "white"
           }
          },
          "shapedefaults": {
           "line": {
            "color": "#2a3f5f"
           }
          },
          "ternary": {
           "aaxis": {
            "gridcolor": "white",
            "linecolor": "white",
            "ticks": ""
           },
           "baxis": {
            "gridcolor": "white",
            "linecolor": "white",
            "ticks": ""
           },
           "bgcolor": "#E5ECF6",
           "caxis": {
            "gridcolor": "white",
            "linecolor": "white",
            "ticks": ""
           }
          },
          "title": {
           "x": 0.05
          },
          "xaxis": {
           "automargin": true,
           "gridcolor": "white",
           "linecolor": "white",
           "ticks": "",
           "title": {
            "standoff": 15
           },
           "zerolinecolor": "white",
           "zerolinewidth": 2
          },
          "yaxis": {
           "automargin": true,
           "gridcolor": "white",
           "linecolor": "white",
           "ticks": "",
           "title": {
            "standoff": 15
           },
           "zerolinecolor": "white",
           "zerolinewidth": 2
          }
         }
        }
       }
      },
      "image/png": "[encoded data removed]",
      "text/html": [
       "<div>                            <div id=\"473f2140-f549-4444-98bb-d69bb4882c0b\" class=\"plotly-graph-div\" style=\"height:525px; width:100%;\"></div>            <script type=\"text/javascript\">                require([\"plotly\"], function(Plotly) {                    window.PLOTLYENV=window.PLOTLYENV || {};                                    if (document.getElementById(\"473f2140-f549-4444-98bb-d69bb4882c0b\")) {                    Plotly.newPlot(                        \"473f2140-f549-4444-98bb-d69bb4882c0b\",                        [{\"domain\":{\"x\":[0.0,1.0],\"y\":[0.0,1.0]},\"hole\":0.4,\"hoverinfo\":\"label+percent\",\"hovertemplate\":\"label=%{label}<br>value=%{value}<extra></extra>\",\"labels\":[\"Vulnerability_Scan\",\"System_Cmd_Execution\",\"HOST_Scan\",\"Path_Disclosure\",\"SQL_Injection\",\"Cross_Site_Scripting\",\"Automatically_Searching_Infor\",\"Leakage_Through_NW\",\"Directory_Indexing\"],\"legendgroup\":\"\",\"marker\":{\"line\":{\"width\":1}},\"name\":\"\",\"showlegend\":true,\"textinfo\":\"percent+label\",\"textposition\":\"auto\",\"values\":[16867,9807,6315,4775,3395,1348,1119,956,418],\"type\":\"pie\"}],                        {\"annotations\":[{\"font\":{\"size\":17},\"showarrow\":false,\"text\":\"Percentages\"}],\"legend\":{\"tracegroupgap\":0},\"margin\":{\"t\":60},\"template\":{\"data\":{\"barpolar\":[{\"marker\":{\"line\":{\"color\":\"#E5ECF6\",\"width\":0.5},\"pattern\":{\"fillmode\":\"overlay\",\"size\":10,\"solidity\":0.2}},\"type\":\"barpolar\"}],\"bar\":[{\"error_x\":{\"color\":\"#2a3f5f\"},\"error_y\":{\"color\":\"#2a3f5f\"},\"marker\":{\"line\":{\"color\":\"#E5ECF6\",\"width\":0.5},\"pattern\":{\"fillmode\":\"overlay\",\"size\":10,\"solidity\":0.2}},\"type\":\"bar\"}],\"carpet\":[{\"aaxis\":{\"endlinecolor\":\"#2a3f5f\",\"gridcolor\":\"white\",\"linecolor\":\"white\",\"minorgridcolor\":\"white\",\"startlinecolor\":\"#2a3f5f\"},\"baxis\":{\"endlinecolor\":\"#2a3f5f\",\"gridcolor\":\"white\",\"linecolor\":\"white\",\"minorgridcolor\":\"white\",\"startlinecolor\":\"#2a3f5f\"},\"type\":\"carpet\"}],\"choropleth\":[{\"colorbar\":{\"outlinewidth\":0,\"ticks\":\"\"},\"type\":\"choropleth\"}],\"contourcarpet\":[{\"colorbar\":{\"outlinewidth\":0,\"ticks\":\"\"},\"type\":\"contourcarpet\"}],\"contour\":[{\"colorbar\":{\"outlinewidth\":0,\"ticks\":\"\"},\"colorscale\":[[0.0,\"#0d0887\"],[0.1111111111111111,\"#46039f\"],[0.2222222222222222,\"#7201a8\"],[0.3333333333333333,\"#9c179e\"],[0.4444444444444444,\"#bd3786\"],[0.5555555555555556,\"#d8576b\"],[0.6666666666666666,\"#ed7953\"],[0.7777777777777778,\"#fb9f3a\"],[0.8888888888888888,\"#fdca26\"],[1.0,\"#f0f921\"]],\"type\":\"contour\"}],\"heatmapgl\":[{\"colorbar\":{\"outlinewidth\":0,\"ticks\":\"\"},\"colorscale\":[[0.0,\"#0d0887\"],[0.1111111111111111,\"#46039f\"],[0.2222222222222222,\"#7201a8\"],[0.3333333333333333,\"#9c179e\"],[0.4444444444444444,\"#bd3786\"],[0.5555555555555556,\"#d8576b\"],[0.6666666666666666,\"#ed7953\"],[0.7777777777777778,\"#fb9f3a\"],[0.8888888888888888,\"#fdca26\"],[1.0,\"#f0f921\"]],\"type\":\"heatmapgl\"}],\"heatmap\":[{\"colorbar\":{\"outlinewidth\":0,\"ticks\":\"\"},\"colorscale\":[[0.0,\"#0d0887\"],[0.1111111111111111,\"#46039f\"],[0.2222222222222222,\"#7201a8\"],[0.3333333333333333,\"#9c179e\"],[0.4444444444444444,\"#bd3786\"],[0.5555555555555556,\"#d8576b\"],[0.6666666666666666,\"#ed7953\"],[0.7777777777777778,\"#fb9f3a\"],[0.8888888888888888,\"#fdca26\"],[1.0,\"#f0f921\"]],\"type\":\"heatmap\"}],\"histogram2dcontour\":[{\"colorbar\":{\"outlinewidth\":0,\"ticks\":\"\"},\"colorscale\":[[0.0,\"#0d0887\"],[0.1111111111111111,\"#46039f\"],[0.2222222222222222,\"#7201a8\"],[0.3333333333333333,\"#9c179e\"],[0.4444444444444444,\"#bd3786\"],[0.5555555555555556,\"#d8576b\"],[0.6666666666666666,\"#ed7953\"],[0.7777777777777778,\"#fb9f3a\"],[0.8888888888888888,\"#fdca26\"],[1.0,\"#f0f921\"]],\"type\":\"histogram2dcontour\"}],\"histogram2d\":[{\"colorbar\":{\"outlinewidth\":0,\"ticks\":\"\"},\"colorscale\":[[0.0,\"#0d0887\"],[0.1111111111111111,\"#46039f\"],[0.2222222222222222,\"#7201a8\"],[0.3333333333333333,\"#9c179e\"],[0.4444444444444444,\"#bd3786\"],[0.5555555555555556,\"#d8576b\"],[0.6666666666666666,\"#ed7953\"],[0.7777777777777778,\"#fb9f3a\"],[0.8888888888888888,\"#fdca26\"],[1.0,\"#f0f921\"]],\"type\":\"histogram2d\"}],\"histogram\":[{\"marker\":{\"pattern\":{\"fillmode\":\"overlay\",\"size\":10,\"solidity\":0.2}},\"type\":\"histogram\"}],\"mesh3d\":[{\"colorbar\":{\"outlinewidth\":0,\"ticks\":\"\"},\"type\":\"mesh3d\"}],\"parcoords\":[{\"line\":{\"colorbar\":{\"outlinewidth\":0,\"ticks\":\"\"}},\"type\":\"parcoords\"}],\"pie\":[{\"automargin\":true,\"type\":\"pie\"}],\"scatter3d\":[{\"line\":{\"colorbar\":{\"outlinewidth\":0,\"ticks\":\"\"}},\"marker\":{\"colorbar\":{\"outlinewidth\":0,\"ticks\":\"\"}},\"type\":\"scatter3d\"}],\"scattercarpet\":[{\"marker\":{\"colorbar\":{\"outlinewidth\":0,\"ticks\":\"\"}},\"type\":\"scattercarpet\"}],\"scattergeo\":[{\"marker\":{\"colorbar\":{\"outlinewidth\":0,\"ticks\":\"\"}},\"type\":\"scattergeo\"}],\"scattergl\":[{\"marker\":{\"colorbar\":{\"outlinewidth\":0,\"ticks\":\"\"}},\"type\":\"scattergl\"}],\"scattermapbox\":[{\"marker\":{\"colorbar\":{\"outlinewidth\":0,\"ticks\":\"\"}},\"type\":\"scattermapbox\"}],\"scatterpolargl\":[{\"marker\":{\"colorbar\":{\"outlinewidth\":0,\"ticks\":\"\"}},\"type\":\"scatterpolargl\"}],\"scatterpolar\":[{\"marker\":{\"colorbar\":{\"outlinewidth\":0,\"ticks\":\"\"}},\"type\":\"scatterpolar\"}],\"scatter\":[{\"fillpattern\":{\"fillmode\":\"overlay\",\"size\":10,\"solidity\":0.2},\"type\":\"scatter\"}],\"scatterternary\":[{\"marker\":{\"colorbar\":{\"outlinewidth\":0,\"ticks\":\"\"}},\"type\":\"scatterternary\"}],\"surface\":[{\"colorbar\":{\"outlinewidth\":0,\"ticks\":\"\"},\"colorscale\":[[0.0,\"#0d0887\"],[0.1111111111111111,\"#46039f\"],[0.2222222222222222,\"#7201a8\"],[0.3333333333333333,\"#9c179e\"],[0.4444444444444444,\"#bd3786\"],[0.5555555555555556,\"#d8576b\"],[0.6666666666666666,\"#ed7953\"],[0.7777777777777778,\"#fb9f3a\"],[0.8888888888888888,\"#fdca26\"],[1.0,\"#f0f921\"]],\"type\":\"surface\"}],\"table\":[{\"cells\":{\"fill\":{\"color\":\"#EBF0F8\"},\"line\":{\"color\":\"white\"}},\"header\":{\"fill\":{\"color\":\"#C8D4E3\"},\"line\":{\"color\":\"white\"}},\"type\":\"table\"}]},\"layout\":{\"annotationdefaults\":{\"arrowcolor\":\"#2a3f5f\",\"arrowhead\":0,\"arrowwidth\":1},\"autotypenumbers\":\"strict\",\"coloraxis\":{\"colorbar\":{\"outlinewidth\":0,\"ticks\":\"\"}},\"colorscale\":{\"diverging\":[[0,\"#8e0152\"],[0.1,\"#c51b7d\"],[0.2,\"#de77ae\"],[0.3,\"#f1b6da\"],[0.4,\"#fde0ef\"],[0.5,\"#f7f7f7\"],[0.6,\"#e6f5d0\"],[0.7,\"#b8e186\"],[0.8,\"#7fbc41\"],[0.9,\"#4d9221\"],[1,\"#276419\"]],\"sequential\":[[0.0,\"#0d0887\"],[0.1111111111111111,\"#46039f\"],[0.2222222222222222,\"#7201a8\"],[0.3333333333333333,\"#9c179e\"],[0.4444444444444444,\"#bd3786\"],[0.5555555555555556,\"#d8576b\"],[0.6666666666666666,\"#ed7953\"],[0.7777777777777778,\"#fb9f3a\"],[0.8888888888888888,\"#fdca26\"],[1.0,\"#f0f921\"]],\"sequentialminus\":[[0.0,\"#0d0887\"],[0.1111111111111111,\"#46039f\"],[0.2222222222222222,\"#7201a8\"],[0.3333333333333333,\"#9c179e\"],[0.4444444444444444,\"#bd3786\"],[0.5555555555555556,\"#d8576b\"],[0.6666666666666666,\"#ed7953\"],[0.7777777777777778,\"#fb9f3a\"],[0.8888888888888888,\"#fdca26\"],[1.0,\"#f0f921\"]]},\"colorway\":[\"#636efa\",\"#EF553B\",\"#00cc96\",\"#ab63fa\",\"#FFA15A\",\"#19d3f3\",\"#FF6692\",\"#B6E880\",\"#FF97FF\",\"#FECB52\"],\"font\":{\"color\":\"#2a3f5f\"},\"geo\":{\"bgcolor\":\"white\",\"lakecolor\":\"white\",\"landcolor\":\"#E5ECF6\",\"showlakes\":true,\"showland\":true,\"subunitcolor\":\"white\"},\"hoverlabel\":{\"align\":\"left\"},\"hovermode\":\"closest\",\"mapbox\":{\"style\":\"light\"},\"paper_bgcolor\":\"white\",\"plot_bgcolor\":\"#E5ECF6\",\"polar\":{\"angularaxis\":{\"gridcolor\":\"white\",\"linecolor\":\"white\",\"ticks\":\"\"},\"bgcolor\":\"#E5ECF6\",\"radialaxis\":{\"gridcolor\":\"white\",\"linecolor\":\"white\",\"ticks\":\"\"}},\"scene\":{\"xaxis\":{\"backgroundcolor\":\"#E5ECF6\",\"gridcolor\":\"white\",\"gridwidth\":2,\"linecolor\":\"white\",\"showbackground\":true,\"ticks\":\"\",\"zerolinecolor\":\"white\"},\"yaxis\":{\"backgroundcolor\":\"#E5ECF6\",\"gridcolor\":\"white\",\"gridwidth\":2,\"linecolor\":\"white\",\"showbackground\":true,\"ticks\":\"\",\"zerolinecolor\":\"white\"},\"zaxis\":{\"backgroundcolor\":\"#E5ECF6\",\"gridcolor\":\"white\",\"gridwidth\":2,\"linecolor\":\"white\",\"showbackground\":true,\"ticks\":\"\",\"zerolinecolor\":\"white\"}},\"shapedefaults\":{\"line\":{\"color\":\"#2a3f5f\"}},\"ternary\":{\"aaxis\":{\"gridcolor\":\"white\",\"linecolor\":\"white\",\"ticks\":\"\"},\"baxis\":{\"gridcolor\":\"white\",\"linecolor\":\"white\",\"ticks\":\"\"},\"bgcolor\":\"#E5ECF6\",\"caxis\":{\"gridcolor\":\"white\",\"linecolor\":\"white\",\"ticks\":\"\"}},\"title\":{\"x\":0.05},\"xaxis\":{\"automargin\":true,\"gridcolor\":\"white\",\"linecolor\":\"white\",\"ticks\":\"\",\"title\":{\"standoff\":15},\"zerolinecolor\":\"white\",\"zerolinewidth\":2},\"yaxis\":{\"automargin\":true,\"gridcolor\":\"white\",\"linecolor\":\"white\",\"ticks\":\"\",\"title\":{\"standoff\":15},\"zerolinecolor\":\"white\",\"zerolinewidth\":2}}}},                        {\"responsive\": true}                    ).then(function(){\n",
       "                            \n",
       "var gd = document.getElementById('473f2140-f549-4444-98bb-d69bb4882c0b');\n",
       "var x = new MutationObserver(function (mutations, observer) {{\n",
       "        var display = window.getComputedStyle(gd).display;\n",
       "        if (!display || display === 'none') {{\n",
       "            console.log([gd, 'removed!']);\n",
       "            Plotly.purge(gd);\n",
       "            observer.disconnect();\n",
       "        }}\n",
       "}});\n",
       "\n",
       "// Listen for the removal of the full notebook cells\n",
       "var notebookContainer = gd.closest('#notebook-container');\n",
       "if (notebookContainer) {{\n",
       "    x.observe(notebookContainer, {childList: true});\n",
       "}}\n",
       "\n",
       "// Listen for the clearing of the current output cell\n",
       "var outputEl = gd.closest('.output');\n",
       "if (outputEl) {{\n",
       "    x.observe(outputEl, {childList: true});\n",
       "}}\n",
       "\n",
       "                        })                };                });            </script>        </div>"
      ]
     },
     "metadata": {},
     "output_type": "display_data"
    }
   ],
   "source": [
    "fig1 = px.pie(data,values=data['label_action'].value_counts(),names=data['label_action'].value_counts().index)\n",
    "fig1.update_traces(textposition='auto', textinfo='percent+label',marker={\"line\":{\"width\":1}},hoverinfo='label+percent',hole=0.4)\n",
    "fig1.update_layout(annotations=[{\"text\":\"Percentages\",\"showarrow\":False,\"font_size\":17}])\n",
    "iplot(fig1)"
   ]
  },
  {
   "cell_type": "markdown",
   "metadata": {
    "papermill": {
     "duration": 0.038673,
     "end_time": "2020-08-30T14:35:57.825708",
     "exception": false,
     "start_time": "2020-08-30T14:35:57.787035",
     "status": "completed"
    },
    "tags": []
   },
   "source": [
    "# **Word Overview** <a id=\"2\"></a>\n",
    "<h3> Let's start with word list</h3>"
   ]
  },
  {
   "cell_type": "code",
   "execution_count": 22,
   "metadata": {
    "papermill": {
     "duration": 64.722122,
     "end_time": "2020-08-30T14:37:02.585291",
     "exception": false,
     "start_time": "2020-08-30T14:35:57.863169",
     "status": "completed"
    },
    "tags": []
   },
   "outputs": [],
   "source": [
    "# import re\n",
    "\n",
    "# wordList = list()\n",
    "# for i in range(len(data)):\n",
    "#     temp = data.text[i].split()\n",
    "#     for k in temp:\n",
    "#         k = re.sub(\"[^a-zA-ZğĞüÜşŞıİöÖçÇ]\",\"\",k)\n",
    "#         if k != \"\":\n",
    "#             wordList.append(k)"
   ]
  },
  {
   "cell_type": "code",
   "execution_count": 23,
   "metadata": {
    "tags": []
   },
   "outputs": [],
   "source": [
    "import re\n",
    "\n",
    "wordList = list()\n",
    "for i in range(len(data)):\n",
    "    temp = data['payload'][i].split()\n",
    "    for k in temp:\n",
    "        # k = re.sub(\"[^a-zA-Z]\", \"\", k)\n",
    "        # if k != \"\":\n",
    "        wordList.append(k)"
   ]
  },
  {
   "cell_type": "code",
   "execution_count": 24,
   "metadata": {
    "papermill": {
     "duration": 8.23566,
     "end_time": "2020-08-30T14:37:10.858740",
     "exception": false,
     "start_time": "2020-08-30T14:37:02.623080",
     "status": "completed"
    },
    "tags": []
   },
   "outputs": [
    {
     "name": "stdout",
     "output_type": "stream",
     "text": [
      "Most Used 20 Words\n",
      "get : 32167\n",
      "mozilla/5.0 : 23917\n",
      "http/1.1\\r\\nhost: : 20622\n",
      "post : 11600\n",
      "nt : 10528\n",
      "(windows : 10194\n",
      "10.0; : 9038\n",
      "win64; : 8875\n",
      "text/html,application/xhtml : 8625\n",
      "gzip, : 8609\n",
      "gecko/20100101 : 7494\n",
      "www.mall.shop\\r\\nuser-agent: : 7173\n",
      "mozilla/5.00 : 7066\n",
      "(nikto/2.1.6) : 7066\n",
      "(evasions:none) : 7066\n",
      "shopreferer=; : 6825\n",
      "deflate\\r\\nuser-agent: : 6587\n",
      "(gecko) : 6563\n",
      "arachni/v10.0.0.80\\r\\naccept: : 6563\n",
      "negotiate : 6520\n"
     ]
    }
   ],
   "source": [
    "from collections import Counter\n",
    "\n",
    "wordCount = Counter(wordList)\n",
    "countedWordDict = dict(wordCount)\n",
    "sortedWordDict = sorted(countedWordDict.items(),key = lambda x : x[1],reverse=True)\n",
    "\n",
    "print(\"Most Used 20 Words\")\n",
    "for word,counted in sortedWordDict[0:20]:\n",
    "    print(\"{} : {}\".format(word,counted))"
   ]
  },
  {
   "cell_type": "code",
   "execution_count": 25,
   "metadata": {
    "tags": []
   },
   "outputs": [
    {
     "name": "stdout",
     "output_type": "stream",
     "text": [
      "Most Used 20 Words\n",
      "get : 32167\n",
      "mozilla/5.0 : 23917\n",
      "http/1.1\\r\\nhost: : 20622\n",
      "post : 11600\n",
      "nt : 10528\n",
      "(windows : 10194\n",
      "10.0; : 9038\n",
      "win64; : 8875\n",
      "text/html,application/xhtml : 8625\n",
      "gzip, : 8609\n",
      "gecko/20100101 : 7494\n",
      "www.mall.shop\\r\\nuser-agent: : 7173\n",
      "mozilla/5.00 : 7066\n",
      "(nikto/2.1.6) : 7066\n",
      "(evasions:none) : 7066\n",
      "shopreferer=; : 6825\n",
      "deflate\\r\\nuser-agent: : 6587\n",
      "(gecko) : 6563\n",
      "arachni/v10.0.0.80\\r\\naccept: : 6563\n",
      "negotiate : 6520\n"
     ]
    }
   ],
   "source": [
    "from collections import Counter\n",
    "\n",
    "wordCount = Counter(wordList)\n",
    "countedWordDict = dict(wordCount)\n",
    "sortedWordDict = sorted(countedWordDict.items(),key = lambda x : x[1],reverse=True)\n",
    "\n",
    "print(\"Most Used 20 Words\")\n",
    "for word,counted in sortedWordDict[0:20]:\n",
    "    print(\"{} : {}\".format(word,counted))"
   ]
  },
  {
   "cell_type": "markdown",
   "metadata": {
    "papermill": {
     "duration": 0.038301,
     "end_time": "2020-08-30T14:37:10.935329",
     "exception": false,
     "start_time": "2020-08-30T14:37:10.897028",
     "status": "completed"
    },
    "tags": []
   },
   "source": [
    "<h2>So they are most used 20 words... </h2>\n",
    "<h3>But why is \"oku\" -\"read\" in english- used 386776 times even if there are 427231\ttexts? Let's see...</h3>"
   ]
  },
  {
   "cell_type": "code",
   "execution_count": 26,
   "metadata": {
    "papermill": {
     "duration": 0.049958,
     "end_time": "2020-08-30T14:37:11.022680",
     "exception": false,
     "start_time": "2020-08-30T14:37:10.972722",
     "status": "completed"
    },
    "tags": []
   },
   "outputs": [],
   "source": [
    "# for i in data[\"text\"][7:10]:\n",
    "#     if \"oku\" in i:\n",
    "#         print(i)\n",
    "#         print(\"*\"*20)"
   ]
  },
  {
   "cell_type": "markdown",
   "metadata": {
    "papermill": {
     "duration": 0.050553,
     "end_time": "2020-08-30T14:37:11.112382",
     "exception": false,
     "start_time": "2020-08-30T14:37:11.061829",
     "status": "completed"
    },
    "tags": []
   },
   "source": [
    "<h2>As we can see 'oku' and 'oku\"' used with \"Devamını\" -\"more\" in english-</h2>\n",
    "<h3>We know this dataset contains \"comments\" so \"... Devamını oku\" is used to see rest of the comment. It means we can clear it too for better visualization!</h3>"
   ]
  },
  {
   "cell_type": "code",
   "execution_count": 27,
   "metadata": {
    "papermill": {
     "duration": 1.857644,
     "end_time": "2020-08-30T14:37:13.012758",
     "exception": false,
     "start_time": "2020-08-30T14:37:11.155114",
     "status": "completed"
    },
    "tags": []
   },
   "outputs": [],
   "source": [
    "# def dontReadMore(text):\n",
    "#     temptext = text.split(\".\")\n",
    "#     if \"Devamını\" in temptext[-1]:\n",
    "#         text = temptext[:-1]\n",
    "#     return \"\".join(text)\n",
    "\n",
    "# data[\"text\"] = data[\"text\"].apply(dontReadMore)"
   ]
  },
  {
   "cell_type": "code",
   "execution_count": 28,
   "metadata": {
    "papermill": {
     "duration": 0.050926,
     "end_time": "2020-08-30T14:37:13.102857",
     "exception": false,
     "start_time": "2020-08-30T14:37:13.051931",
     "status": "completed"
    },
    "tags": []
   },
   "outputs": [],
   "source": [
    "# for i in data[\"text\"][200:500]:\n",
    "#     if \"oku\" in i:\n",
    "#         print(i)\n",
    "#         print(\"*\"*20)"
   ]
  },
  {
   "cell_type": "markdown",
   "metadata": {
    "papermill": {
     "duration": 0.037675,
     "end_time": "2020-08-30T14:37:13.179262",
     "exception": false,
     "start_time": "2020-08-30T14:37:13.141587",
     "status": "completed"
    },
    "tags": []
   },
   "source": [
    "<h3>Now we can visualize with REAL most used words </h3>"
   ]
  },
  {
   "cell_type": "code",
   "execution_count": 29,
   "metadata": {
    "papermill": {
     "duration": 69.155787,
     "end_time": "2020-08-30T14:38:22.374127",
     "exception": false,
     "start_time": "2020-08-30T14:37:13.218340",
     "status": "completed"
    },
    "tags": []
   },
   "outputs": [],
   "source": [
    "# wordList = list()\n",
    "# for i in range(len(data)):\n",
    "#     temp = data.text[i].split()\n",
    "#     for k in temp:\n",
    "#         k = re.sub(\"[^a-zA-ZğĞüÜşŞıİöÖçÇ]\",\"\",k)\n",
    "#         if k != \"\":\n",
    "#             wordList.append(k)\n",
    "# wordCount = Counter(wordList)\n",
    "# countedWordDict = dict(wordCount)\n",
    "# sortedWordDict = sorted(countedWordDict.items(),key = lambda x : x[1],reverse=True)\n",
    "# print(\"REAL Most Used 20 Words\")\n",
    "# for word,counted in sortedWordDict[0:20]:\n",
    "#     print(\"{} : {}\".format(word,counted))"
   ]
  },
  {
   "cell_type": "code",
   "execution_count": 30,
   "metadata": {
    "papermill": {
     "duration": 32.088344,
     "end_time": "2020-08-30T14:38:54.502163",
     "exception": false,
     "start_time": "2020-08-30T14:38:22.413819",
     "status": "completed"
    },
    "tags": []
   },
   "outputs": [],
   "source": [
    "# num = 75 # For using most used 75 words\n",
    "# list1 = list()\n",
    "# list2 = list()\n",
    "# for i in range(num):\n",
    "#     list1.append(wordCount.most_common(num)[i][0])\n",
    "#     list2.append(wordCount.most_common(num)[i][1])"
   ]
  },
  {
   "cell_type": "code",
   "execution_count": 31,
   "metadata": {
    "papermill": {
     "duration": 0.15956,
     "end_time": "2020-08-30T14:38:54.751149",
     "exception": false,
     "start_time": "2020-08-30T14:38:54.591589",
     "status": "completed"
    },
    "tags": []
   },
   "outputs": [],
   "source": [
    "# fig2 = px.bar(x=list1,y=list2,color=list2,hover_name=list1,hover_data={'Word':list1,\"Count\":list2})\n",
    "# fig2.update_traces(hovertemplate=\"Word:'%{x}' Value: %{y}\")\n",
    "# fig2.update_layout(title={\"text\":\"Word Values\",\"x\":0.5,\"font\":{\"size\":30}},xaxis={\"title\":\"Words\",\"showgrid\":False},yaxis={\"title\":\"Value\",\"showgrid\":False},plot_bgcolor=\"white\")\n",
    "# fig2.show()"
   ]
  },
  {
   "cell_type": "code",
   "execution_count": 32,
   "metadata": {
    "papermill": {
     "duration": 0.445494,
     "end_time": "2020-08-30T14:38:55.244671",
     "exception": false,
     "start_time": "2020-08-30T14:38:54.799177",
     "status": "completed"
    },
    "tags": []
   },
   "outputs": [],
   "source": [
    "# from PIL import Image\n",
    "\n",
    "# shopping_cart = np.array(Image.open(\"/kaggle/input/shopping-cart/shopping_cart.png\"))\n",
    "# plt.imshow(shopping_cart)"
   ]
  },
  {
   "cell_type": "code",
   "execution_count": 33,
   "metadata": {
    "papermill": {
     "duration": 10.874187,
     "end_time": "2020-08-30T14:39:06.167017",
     "exception": false,
     "start_time": "2020-08-30T14:38:55.292830",
     "status": "completed"
    },
    "tags": []
   },
   "outputs": [],
   "source": [
    "# from wordcloud import WordCloud\n",
    "# from nltk.corpus import stopwords\n",
    "\n",
    "# def grey_color_func(word, font_size, position,orientation,random_state=None, **kwargs):\n",
    "#     return(\"hsl(0,0%%, %d%%)\" % np.random.randint(50,55))\n",
    "\n",
    "# stopwordCloud = set(stopwords.words(\"turkish\"))\n",
    "\n",
    "# wordcloud = WordCloud(stopwords=stopwordCloud,max_words=1000,background_color=\"white\",min_font_size=3,mask=shopping_cart).generate_from_frequencies(countedWordDict)\n",
    "# wordcloud.recolor(color_func = grey_color_func)\n",
    "# plt.figure(figsize=[13,10])\n",
    "# plt.axis(\"off\")\n",
    "# plt.title(\"Word Cloud\",fontsize=20)\n",
    "# plt.imshow(wordcloud)\n",
    "# plt.show()"
   ]
  },
  {
   "cell_type": "markdown",
   "metadata": {
    "papermill": {
     "duration": 0.050486,
     "end_time": "2020-08-30T14:39:06.268929",
     "exception": false,
     "start_time": "2020-08-30T14:39:06.218443",
     "status": "completed"
    },
    "tags": []
   },
   "source": [
    "# **NLP Processing** <a id=\"3\"></a>"
   ]
  },
  {
   "cell_type": "code",
   "execution_count": 34,
   "metadata": {
    "papermill": {
     "duration": 286.235293,
     "end_time": "2020-08-30T14:43:52.554898",
     "exception": false,
     "start_time": "2020-08-30T14:39:06.319605",
     "status": "completed"
    },
    "tags": []
   },
   "outputs": [],
   "source": [
    "# from nltk.corpus import stopwords\n",
    "# from nltk.stem.porter import PorterStemmer\n",
    "# from nltk import word_tokenize\n",
    "# import time\n",
    "\n",
    "# ps = PorterStemmer()\n",
    "# stopwordSet = set(stopwords.words('turkish'))\n",
    "\n",
    "# t = time.time()\n",
    "\n",
    "# def leadMyWord(text):\n",
    "#     text = re.sub('[^a-zA-ZğĞüÜşŞıİöÖçÇ]',\" \",text)\n",
    "#     text = text.lower()\n",
    "#     text = word_tokenize(text,language='turkish')\n",
    "#     text = [word for word in text if not word in stopwordSet]\n",
    "#     text = \" \".join(text)\n",
    "#     return text   \n",
    "\n",
    "# textList = data.text.apply(leadMyWord)\n",
    "# textList = list(textList)\n",
    "\n",
    "# print(\"Before\")\n",
    "# print(data[\"text\"][2])\n",
    "# print(\"After\")\n",
    "# print(textList[2])\n",
    "# print(\"Time Passed\")\n",
    "# print(time.time()-t)"
   ]
  },
  {
   "cell_type": "code",
   "execution_count": 35,
   "metadata": {
    "tags": []
   },
   "outputs": [
    {
     "name": "stdout",
     "output_type": "stream",
     "text": [
      "Before\n",
      "get /goods/goods_search?display_type=list&arr_search_list[0][search_type]=-1839 or 1=2&arr_search_list[0][search]=1&arr_search_list[1][search_type]=gm.name&arr_search_list[1][search]=1&arr_search_list[2][search_type]=gm.name&arr_search_list[2][search]=1&search_include=y&search=1&search_type=gm.name http/1.1\\r\\nhost: www.college.school\\r\\nauthorization: negotiate tlrmtvntuaabaaaat4ii4gaaaaaaaaaaaaaaaaaaaaakaf1yaaaadw==\\r\\naccept-encoding: gzip, deflate\\r\\nuser-agent: mozilla/5.0 (gecko) arachni/v10.0.0.80\\r\\naccept: text/html,application/xhtml xml,application/xml;q=0.9,*/*;q=0.8\\r\\naccept-language: en-us,en;q=0.8,he;q=0.6\\r\\nx-arachni-scan-seed: 4818b1cc56353e785f9bfe9b055b7183\\r\\ncookie: designart_site=cg0q4hq5j1rgo9o2ns7s3nsnjlauq1rp\\r\\n\\r\\n\n",
      "After\n",
      "get { p } { p } goods { p } goods { p } search { p } display { p } type { p } list { p } arr { p } search { p } list { p } { p } { p } { p } search { p } type { p } { p } { p } { p } { p } { p } { p } { p } { p } { p } { p } { p } { p } arr { p } search { p } list { p } { p } { p } { p } search { p } { p } { p } { p } arr { p } search { p } list { p } { p } { p } { p } search { p } type { p } { p } gm { p } name { p } arr { p } search { p } list { p } { p } { p } { p } search { p } { p } { p } { p } arr { p } search { p } list { p } { p } { p } { p } search { p } type { p } { p } gm { p } name { p } arr { p } search { p } list { p } { p } { p } { p } search { p } { p } { p } { p } search { p } include { p } { p } search { p } { p } { p } search { p } type { p } gm { p } name { p } http { p } { p } { p } { p } { p } r { p } nhost { p } { p } www { p } college { p } school { p } r { p } nauthorization { p } { p } negotiate { p } tlrmtvntuaabaaaat { p } ii { p } gaaaaaaaaaaaaaaaaaaaaakaf { p } yaaaadw { p } { p } { p } r { p } naccept { p } encoding { p } { p } gzip { p } { p } deflate { p } r { p } nuser { p } agent { p } { p } mozilla { p } { p } { p } { p } { p } { p } gecko { p } { p } arachni { p } v { p } { p } { p } { p } { p } { p } { p } { p } { p } { p } r { p } naccept { p } { p } text { p } html { p } application { p } xhtml { p } xml { p } application { p } xml { p } q { p } { p } { p } { p } { p } { p } { p } { p } { p } q { p } { p } { p } { p } { p } r { p } naccept { p } language { p } { p } en { p } us { p } en { p } q { p } { p } { p } { p } { p } { p } q { p } { p } { p } { p } { p } r { p } nx { p } arachni { p } scan { p } seed { p } { p } { p } { p } { p } { p } b { p } cc { p } { p } { p } { p } { p } e { p } { p } { p } f { p } bfe { p } b { p } { p } { p } b { p } { p } { p } { p } { p } r { p } ncookie { p } { p } designart { p } site { p } cg { p } q { p } hq { p } j { p } rgo { p } { p } ns { p } { p } nsnjlauq { p } rp { p } r { p } n { p } r { p } n\n",
      "Time Passed\n",
      "172.39287734031677\n"
     ]
    }
   ],
   "source": [
    "from nltk.corpus import stopwords\n",
    "from nltk.stem.porter import PorterStemmer\n",
    "from nltk import word_tokenize\n",
    "import time\n",
    "import re\n",
    "ps = PorterStemmer()\n",
    "stopwordSet = set(stopwords.words('english'))\n",
    "\n",
    "t = time.time()\n",
    "\n",
    "def clean_text(text):\n",
    "    text = re.sub('[^a-zA-Z]', '{p}', text)\n",
    "    text = text.lower()\n",
    "    text = word_tokenize(text)\n",
    "    text = [word for word in text if word not in stopwordSet]\n",
    "    text = \" \".join(text)\n",
    "    return text\n",
    "\n",
    "textList = data['payload'].apply(clean_text)\n",
    "textList = list(textList)\n",
    "\n",
    "print(\"Before\")\n",
    "print(data['payload'][2])\n",
    "print(\"After\")\n",
    "print(textList[2])\n",
    "print(\"Time Passed\")\n",
    "print(time.time() - t)\n"
   ]
  },
  {
   "cell_type": "code",
   "execution_count": 36,
   "metadata": {
    "papermill": {
     "duration": 0.264812,
     "end_time": "2020-08-30T14:43:52.871158",
     "exception": false,
     "start_time": "2020-08-30T14:43:52.606346",
     "status": "completed"
    },
    "tags": []
   },
   "outputs": [
    {
     "name": "stdout",
     "output_type": "stream",
     "text": [
      "LabelEncode\n",
      "[7 7 6 ... 6 5 8]\n",
      "To_Categorical\n",
      "[[0. 0. 0. ... 0. 1. 0.]\n",
      " [0. 0. 0. ... 0. 1. 0.]\n",
      " [0. 0. 0. ... 1. 0. 0.]\n",
      " ...\n",
      " [0. 0. 0. ... 1. 0. 0.]\n",
      " [0. 0. 0. ... 0. 0. 0.]\n",
      " [0. 0. 0. ... 0. 0. 1.]]\n"
     ]
    }
   ],
   "source": [
    "#preparing y\n",
    "\n",
    "from sklearn.preprocessing import LabelEncoder\n",
    "from keras.utils import to_categorical\n",
    "\n",
    "le = LabelEncoder()\n",
    "labelEncode = le.fit_transform(data[\"label_action\"])\n",
    "print(\"LabelEncode\")\n",
    "print(labelEncode)\n",
    "categorical_y = to_categorical(labelEncode)\n",
    "print(\"To_Categorical\")\n",
    "print(categorical_y)"
   ]
  },
  {
   "cell_type": "markdown",
   "metadata": {
    "papermill": {
     "duration": 0.051301,
     "end_time": "2020-08-30T14:43:52.973946",
     "exception": false,
     "start_time": "2020-08-30T14:43:52.922645",
     "status": "completed"
    },
    "tags": []
   },
   "source": [
    "# **ANN Building and Fitting** <a id=\"4\"></a>"
   ]
  },
  {
   "cell_type": "code",
   "execution_count": 37,
   "metadata": {
    "papermill": {
     "duration": 32.244407,
     "end_time": "2020-08-30T14:44:25.269635",
     "exception": false,
     "start_time": "2020-08-30T14:43:53.025228",
     "status": "completed"
    },
    "tags": []
   },
   "outputs": [],
   "source": [
    "from sklearn.feature_extraction.text import TfidfVectorizer\n",
    "from sklearn.model_selection import train_test_split\n",
    "\n",
    "#preparing x for ANN\n",
    "# tfidv = TfidfVectorizer(max_features=20001)\n",
    "tfidv = TfidfVectorizer(max_features=10000)\n",
    "x = tfidv.fit_transform(textList)\n",
    "x.sort_indices()\n",
    "\n",
    "x_train,x_test,y_train,y_test = train_test_split(x,categorical_y,test_size=0.2,random_state=42)"
   ]
  },
  {
   "cell_type": "code",
   "execution_count": 38,
   "metadata": {
    "papermill": {
     "duration": 0.067157,
     "end_time": "2020-08-30T14:44:25.388427",
     "exception": false,
     "start_time": "2020-08-30T14:44:25.321270",
     "status": "completed"
    },
    "tags": []
   },
   "outputs": [],
   "source": [
    "from keras.models import Sequential\n",
    "from keras.layers import Dense, Dropout\n",
    "from keras.optimizers import Adam\n",
    "from keras.utils import plot_model\n",
    "from keras.losses import categorical_crossentropy\n",
    "\n",
    "def build_ann_model():\n",
    "    model = Sequential()\n",
    "    \n",
    "    model.add(Dense(units=1024,activation=\"relu\",input_dim=x_train.shape[1]))\n",
    "    model.add(Dense(units=512,activation=\"relu\"))\n",
    "    model.add(Dense(units=256,activation=\"relu\"))\n",
    "    model.add(Dense(units=y_train.shape[1],activation=\"softmax\"))\n",
    "    \n",
    "    optimizer = Adam(lr=0.000015,beta_1=0.9,beta_2=0.999)\n",
    "    \n",
    "    model.compile(optimizer=optimizer,metrics=[\"accuracy\"],loss=categorical_crossentropy)\n",
    "    return model"
   ]
  },
  {
   "cell_type": "code",
   "execution_count": 39,
   "metadata": {
    "tags": []
   },
   "outputs": [],
   "source": [
    "# !pip install pydot"
   ]
  },
  {
   "cell_type": "code",
   "execution_count": 40,
   "metadata": {
    "tags": []
   },
   "outputs": [],
   "source": [
    "# !sudo apt-get install graphviz"
   ]
  },
  {
   "cell_type": "code",
   "execution_count": 41,
   "metadata": {
    "papermill": {
     "duration": 1.132827,
     "end_time": "2020-08-30T14:44:26.572953",
     "exception": false,
     "start_time": "2020-08-30T14:44:25.440126",
     "status": "completed"
    },
    "tags": []
   },
   "outputs": [
    {
     "name": "stderr",
     "output_type": "stream",
     "text": [
      "2023-10-19 18:05:19.340911: I tensorflow/core/platform/cpu_feature_guard.cc:193] This TensorFlow binary is optimized with oneAPI Deep Neural Network Library (oneDNN) to use the following CPU instructions in performance-critical operations:  AVX512F\n",
      "To enable them in other operations, rebuild TensorFlow with the appropriate compiler flags.\n",
      "2023-10-19 18:05:19.358349: I tensorflow/core/common_runtime/process_util.cc:146] Creating new thread pool with default inter op setting: 2. Tune using inter_op_parallelism_threads for best performance.\n"
     ]
    },
    {
     "name": "stdout",
     "output_type": "stream",
     "text": [
      "You must install pydot (`pip install pydot`) and install graphviz (see instructions at https://graphviz.gitlab.io/download/) for plot_model to work.\n"
     ]
    }
   ],
   "source": [
    "ann_model = build_ann_model()\n",
    "plot_model(ann_model,show_shapes=True)"
   ]
  },
  {
   "cell_type": "code",
   "execution_count": 42,
   "metadata": {
    "papermill": {
     "duration": 1129.329933,
     "end_time": "2020-08-30T15:03:15.955389",
     "exception": false,
     "start_time": "2020-08-30T14:44:26.625456",
     "status": "completed"
    },
    "tags": []
   },
   "outputs": [
    {
     "name": "stdout",
     "output_type": "stream",
     "text": [
      "Epoch 1/10\n",
      "141/141 [==============================] - 25s 156ms/step - loss: 2.1114 - accuracy: 0.3625\n",
      "Epoch 2/10\n",
      "141/141 [==============================] - 22s 157ms/step - loss: 1.7336 - accuracy: 0.3803\n",
      "Epoch 3/10\n",
      "141/141 [==============================] - 22s 156ms/step - loss: 1.3576 - accuracy: 0.5263\n",
      "Epoch 4/10\n",
      "141/141 [==============================] - 22s 155ms/step - loss: 1.0789 - accuracy: 0.6327\n",
      "Epoch 5/10\n",
      "141/141 [==============================] - 22s 154ms/step - loss: 0.8811 - accuracy: 0.7038\n",
      "Epoch 6/10\n",
      "141/141 [==============================] - 22s 155ms/step - loss: 0.7503 - accuracy: 0.7469\n",
      "Epoch 7/10\n",
      "141/141 [==============================] - 22s 155ms/step - loss: 0.6597 - accuracy: 0.7746\n",
      "Epoch 8/10\n",
      "141/141 [==============================] - 22s 155ms/step - loss: 0.5945 - accuracy: 0.7968\n",
      "Epoch 9/10\n",
      "141/141 [==============================] - 22s 155ms/step - loss: 0.5463 - accuracy: 0.8123\n",
      "Epoch 10/10\n",
      "141/141 [==============================] - 22s 155ms/step - loss: 0.5104 - accuracy: 0.8229\n",
      "282/282 [==============================] - 3s 7ms/step\n"
     ]
    }
   ],
   "source": [
    "ann_history = ann_model.fit(x_train,y_train,epochs=10,batch_size=256,shuffle=True)\n",
    "ypred = ann_model.predict(x_test)"
   ]
  },
  {
   "cell_type": "code",
   "execution_count": 43,
   "metadata": {
    "papermill": {
     "duration": 5.795003,
     "end_time": "2020-08-30T15:03:22.642654",
     "exception": false,
     "start_time": "2020-08-30T15:03:16.847651",
     "status": "completed"
    },
    "tags": []
   },
   "outputs": [
    {
     "data": {
      "image/png": "[encoded data removed]",
      "text/plain": [
       "<Figure size 1800x1400 with 1 Axes>"
      ]
     },
     "metadata": {},
     "output_type": "display_data"
    }
   ],
   "source": [
    "from sklearn.metrics import accuracy_score, confusion_matrix\n",
    "import seaborn as sns\n",
    "\n",
    "ann_accuracy = accuracy_score(y_test.argmax(axis=-1),ypred.argmax(axis=-1))\n",
    "#print(\"ANN Accuracy:\",ann_accuracy)\n",
    "ann_cn = confusion_matrix(y_test.argmax(axis=-1),ypred.argmax(axis=-1))\n",
    "plt.subplots(figsize=(18,14))\n",
    "sns.heatmap(ann_cn,annot=True,fmt=\"1d\",cbar=False,xticklabels=le.classes_,yticklabels=le.classes_)\n",
    "plt.title(\"ANN Accuracy: {}\".format(ann_accuracy),fontsize=50)\n",
    "plt.xlabel(\"Predicted\",fontsize=15)\n",
    "plt.ylabel(\"Actual\",fontsize=15)\n",
    "plt.show()"
   ]
  },
  {
   "cell_type": "code",
   "execution_count": 44,
   "metadata": {
    "papermill": {
     "duration": 1.156782,
     "end_time": "2020-08-30T15:03:24.665630",
     "exception": false,
     "start_time": "2020-08-30T15:03:23.508848",
     "status": "completed"
    },
    "tags": []
   },
   "outputs": [
    {
     "data": {
      "image/png": "[encoded data removed]",
      "text/plain": [
       "<Figure size 1500x500 with 2 Axes>"
      ]
     },
     "metadata": {},
     "output_type": "display_data"
    }
   ],
   "source": [
    "fig3, axe1 = plt.subplots(nrows=1, ncols=2, figsize=(15,5))\n",
    "axe1[0].plot(ann_history.history[\"accuracy\"],label=\"accuracy\",color=\"blue\")\n",
    "axe1[1].plot(ann_history.history[\"loss\"],label=\"loss\",color=\"red\")\n",
    "axe1[0].title.set_text(\"ANN Accuracy\")\n",
    "axe1[1].title.set_text(\"ANN Loss\")\n",
    "axe1[0].set_xlabel(\"Epoch\")\n",
    "axe1[1].set_xlabel(\"Epoch\")\n",
    "axe1[0].set_ylabel(\"Rate\")\n",
    "plt.show()"
   ]
  },
  {
   "cell_type": "markdown",
   "metadata": {
    "papermill": {
     "duration": 0.796248,
     "end_time": "2020-08-30T15:03:26.315316",
     "exception": false,
     "start_time": "2020-08-30T15:03:25.519068",
     "status": "completed"
    },
    "tags": []
   },
   "source": [
    "# **CNN Building and Fitting** <a id=\"5\"></a>"
   ]
  },
  {
   "cell_type": "markdown",
   "metadata": {
    "papermill": {
     "duration": 0.804048,
     "end_time": "2020-08-30T15:03:27.972832",
     "exception": false,
     "start_time": "2020-08-30T15:03:27.168784",
     "status": "completed"
    },
    "tags": []
   },
   "source": [
    "Before starting, I'm very grateful to Raj Mehrotra for sharing [\"A Detailed Explanation of Keras Embedding Layer\"](https://www.kaggle.com/rajmehra03/a-detailed-explanation-of-keras-embedding-layer)"
   ]
  },
  {
   "cell_type": "code",
   "execution_count": 1,
   "metadata": {
    "papermill": {
     "duration": 286.46509,
     "end_time": "2020-08-30T15:08:15.293917",
     "exception": false,
     "start_time": "2020-08-30T15:03:28.828827",
     "status": "completed"
    },
    "tags": []
   },
   "outputs": [
    {
     "name": "stderr",
     "output_type": "stream",
     "text": [
      "2023-10-19 18:52:21.112925: I tensorflow/core/platform/cpu_feature_guard.cc:193] This TensorFlow binary is optimized with oneAPI Deep Neural Network Library (oneDNN) to use the following CPU instructions in performance-critical operations:  AVX512F\n",
      "To enable them in other operations, rebuild TensorFlow with the appropriate compiler flags.\n",
      "2023-10-19 18:52:21.818299: W tensorflow/core/profiler/internal/smprofiler_timeline.cc:460] Initializing the SageMaker Profiler.\n",
      "2023-10-19 18:52:21.819210: W tensorflow/core/profiler/internal/smprofiler_timeline.cc:105] SageMaker Profiler is not enabled. The timeline writer thread will not be started, future recorded events will be dropped.\n",
      "2023-10-19 18:52:21.967426: W tensorflow/core/profiler/internal/smprofiler_timeline.cc:460] Initializing the SageMaker Profiler.\n"
     ]
    },
    {
     "ename": "NameError",
     "evalue": "name 'textList' is not defined",
     "output_type": "error",
     "traceback": [
      "\u001b[0;31m---------------------------------------------------------------------------\u001b[0m",
      "\u001b[0;31mNameError\u001b[0m                                 Traceback (most recent call last)",
      "Cell \u001b[0;32mIn[1], line 9\u001b[0m\n\u001b[1;32m      6\u001b[0m MAX_FEATURES \u001b[38;5;241m=\u001b[39m \u001b[38;5;241m20001\u001b[39m\n\u001b[1;32m      8\u001b[0m onehot_corpus \u001b[38;5;241m=\u001b[39m []\n\u001b[0;32m----> 9\u001b[0m \u001b[38;5;28;01mfor\u001b[39;00m text \u001b[38;5;129;01min\u001b[39;00m \u001b[43mtextList\u001b[49m:\n\u001b[1;32m     10\u001b[0m     onehot_corpus\u001b[38;5;241m.\u001b[39mappend(one_hot(text,MAX_FEATURES))\n\u001b[1;32m     12\u001b[0m maxTextLen \u001b[38;5;241m=\u001b[39m \u001b[38;5;241m0\u001b[39m\n",
      "\u001b[0;31mNameError\u001b[0m: name 'textList' is not defined"
     ]
    }
   ],
   "source": [
    "from keras.preprocessing.text import one_hot\n",
    "# from keras.preprocessing.sequence import pad_sequences\n",
    "from tensorflow.keras.preprocessing.sequence import pad_sequences\n",
    "\n",
    "#preparing x for CNN\n",
    "MAX_FEATURES = 20001\n",
    "\n",
    "onehot_corpus = []\n",
    "for text in textList:\n",
    "    onehot_corpus.append(one_hot(text,MAX_FEATURES))\n",
    "    \n",
    "maxTextLen = 0\n",
    "for text in textList:\n",
    "    word_token=word_tokenize(text)\n",
    "    if(maxTextLen < len(word_token)):\n",
    "        maxTextLen = len(word_token)\n",
    "        \n",
    "print(\"Max number of words : \",maxTextLen)\n",
    "\n",
    "padded_corpus=pad_sequences(onehot_corpus,maxlen=maxTextLen,padding='post')\n",
    "# x_train2,x_test2,y_train2,y_test2 = train_test_split(padded_corpus,categorical_y,test_size=0.33,random_state=42)\n",
    "x_train2,x_test2,y_train2,y_test2 = train_test_split(padded_corpus,categorical_y,test_size=0.2,random_state=42)"
   ]
  },
  {
   "cell_type": "code",
   "execution_count": null,
   "metadata": {
    "papermill": {
     "duration": 0.897538,
     "end_time": "2020-08-30T15:08:16.998216",
     "exception": false,
     "start_time": "2020-08-30T15:08:16.100678",
     "status": "completed"
    },
    "tags": []
   },
   "outputs": [],
   "source": [
    "from keras.layers import Embedding, Conv1D, MaxPooling1D, Flatten\n",
    "def build_cnn_model():\n",
    "    model = Sequential()\n",
    "    \n",
    "    model.add(Embedding(MAX_FEATURES, 100, input_length=maxTextLen))\n",
    "\n",
    "\n",
    "    model.add(Conv1D(64, 2, padding='same', activation='relu'))\n",
    "    model.add(MaxPooling1D(2))\n",
    "    #model.add(MaxPooling1D(2))\n",
    "    \n",
    "    model.add(Flatten())\n",
    "    \n",
    "    model.add(Dense(units=1024,activation=\"relu\"))\n",
    "    model.add(Dense(units=512,activation=\"relu\"))\n",
    "    \n",
    "    model.add(Dense(units=y_train2.shape[1],activation=\"softmax\"))\n",
    "    \n",
    "    optimizer = Adam(lr=0.000055,beta_1=0.9,beta_2=0.999)\n",
    "    \n",
    "    model.compile(optimizer=optimizer,metrics=[\"accuracy\"],loss=categorical_crossentropy)\n",
    "    return model"
   ]
  },
  {
   "cell_type": "code",
   "execution_count": null,
   "metadata": {
    "papermill": {
     "duration": 1.324802,
     "end_time": "2020-08-30T15:08:19.128964",
     "exception": false,
     "start_time": "2020-08-30T15:08:17.804162",
     "status": "completed"
    },
    "tags": []
   },
   "outputs": [],
   "source": [
    "cnn_model = build_cnn_model()\n",
    "plot_model(cnn_model,show_shapes=True)"
   ]
  },
  {
   "cell_type": "code",
   "execution_count": null,
   "metadata": {
    "papermill": {
     "duration": 1808.410558,
     "end_time": "2020-08-30T15:38:28.362211",
     "exception": false,
     "start_time": "2020-08-30T15:08:19.951653",
     "status": "completed"
    },
    "tags": []
   },
   "outputs": [],
   "source": [
    "cnn_history = cnn_model.fit(x_train2,y_train2,epochs=10,batch_size=1280,shuffle=True)\n",
    "ypred2 = cnn_model.predict(x_test2)"
   ]
  },
  {
   "cell_type": "code",
   "execution_count": null,
   "metadata": {
    "papermill": {
     "duration": 4.767433,
     "end_time": "2020-08-30T15:38:34.088018",
     "exception": false,
     "start_time": "2020-08-30T15:38:29.320585",
     "status": "completed"
    },
    "tags": []
   },
   "outputs": [],
   "source": [
    "cnn_accuracy = accuracy_score(y_test2.argmax(axis=-1),ypred2.argmax(axis=-1))\n",
    "#print(\"CNN Accuracy:\",cnn_accuracy)\n",
    "cnn_cn = confusion_matrix(y_test2.argmax(axis=-1),ypred2.argmax(axis=-1))\n",
    "plt.subplots(figsize=(18,14))\n",
    "sns.heatmap(cnn_cn,annot=True,fmt=\"1d\",cbar=False,xticklabels=le.classes_,yticklabels=le.classes_)\n",
    "plt.title(\"CNN Accuracy: {}\".format(cnn_accuracy),fontsize=50)\n",
    "plt.xlabel(\"Predicted\",fontsize=15)\n",
    "plt.ylabel(\"Actual\",fontsize=15)\n",
    "plt.show()"
   ]
  },
  {
   "cell_type": "code",
   "execution_count": null,
   "metadata": {
    "papermill": {
     "duration": 1.31241,
     "end_time": "2020-08-30T15:38:36.419023",
     "exception": false,
     "start_time": "2020-08-30T15:38:35.106613",
     "status": "completed"
    },
    "tags": []
   },
   "outputs": [],
   "source": [
    "fig3, axe1 = plt.subplots(nrows=1, ncols=2, figsize=(15,5))\n",
    "axe1[0].plot(cnn_history.history[\"accuracy\"],label=\"accuracy\",color=\"blue\")\n",
    "axe1[1].plot(cnn_history.history[\"loss\"],label=\"loss\",color=\"red\")\n",
    "axe1[0].title.set_text(\"CNN Accuracy\")\n",
    "axe1[1].title.set_text(\"CNN Loss\")\n",
    "axe1[0].set_xlabel(\"Epoch\")\n",
    "axe1[1].set_xlabel(\"Epoch\")\n",
    "axe1[0].set_ylabel(\"Rate\")\n",
    "plt.show()"
   ]
  },
  {
   "cell_type": "code",
   "execution_count": null,
   "metadata": {
    "papermill": {
     "duration": 1.564004,
     "end_time": "2020-08-30T15:38:38.990686",
     "exception": false,
     "start_time": "2020-08-30T15:38:37.426682",
     "status": "completed"
    },
    "tags": []
   },
   "outputs": [],
   "source": [
    "def ann_predict(text):\n",
    "    puretext = leadMyWord(text)\n",
    "    vector = tfidv.transform([puretext])\n",
    "    vector.sort_indices()\n",
    "    predicted = ann_model.predict(vector)\n",
    "    predicted_category = predicted.argmax(axis=1)\n",
    "    return le.classes_[predicted_category]\n",
    "def cnn_predict(text):\n",
    "    puretext = leadMyWord(text)\n",
    "    onehottext = one_hot(puretext,MAX_FEATURES)\n",
    "    text_pad = pad_sequences([onehottext],maxlen=maxTextLen,padding='post')\n",
    "    predicted = cnn_model.predict(text_pad)\n",
    "    predicted_category = predicted.argmax(axis=1)\n",
    "    return le.classes_[predicted_category]\n",
    "    \n",
    "for _ in range(10):\n",
    "    randint = np.random.randint(len(data))\n",
    "    # text = data.text[randint]  \n",
    "    text =data['payload'][randint]\n",
    "    print(\"  Text\")\n",
    "    print(\"-\"*8)\n",
    "    print(text)\n",
    "    print(\"-\"*20)\n",
    "    print(\"Actual Category: {}\".format(data.category[randint]))\n",
    "    print(\"ANN Predicted Category: {}\".format(ann_predict(text)[0]))\n",
    "    print(\"CNN Predicted Category: {}\".format(cnn_predict(text)[0]))\n",
    "    print(\"*\"*50)\n",
    "    "
   ]
  },
  {
   "cell_type": "code",
   "execution_count": 38,
   "metadata": {
    "execution": {
     "iopub.execute_input": "2020-08-30T15:38:40.959508Z",
     "iopub.status.busy": "2020-08-30T15:38:40.958588Z",
     "iopub.status.idle": "2020-08-30T15:38:41.063061Z",
     "shell.execute_reply": "2020-08-30T15:38:41.062445Z"
    },
    "papermill": {
     "duration": 1.123609,
     "end_time": "2020-08-30T15:38:41.063190",
     "exception": false,
     "start_time": "2020-08-30T15:38:39.939581",
     "status": "completed"
    },
    "tags": []
   },
   "outputs": [
    {
     "name": "stdout",
     "output_type": "stream",
     "text": [
      "  Text\n",
      "--------\n",
      "Yemeğin içinden kıl çıktı, gitmenizi önermiyorum.\n",
      "--------------------\n",
      "ANN Predicted Category: mekan-ve-eglence\n",
      "CNN Predicted Category: gida\n",
      "**************************************************\n",
      "  Text\n",
      "--------\n",
      "Tuş bozuk.\n",
      "--------------------\n",
      "ANN Predicted Category: elektronik\n",
      "CNN Predicted Category: enerji\n",
      "**************************************************\n"
     ]
    }
   ],
   "source": [
    "# #Let me try it too\n",
    "# def predict_print(text):\n",
    "#     print(\"  Text\")\n",
    "#     print(\"-\"*8)\n",
    "#     print(text)\n",
    "#     print(\"-\"*20)\n",
    "#     print(\"ANN Predicted Category: {}\".format(ann_predict(text)[0]))\n",
    "#     print(\"CNN Predicted Category: {}\".format(cnn_predict(text)[0]))\n",
    "#     print(\"*\"*50)\n",
    "# myText = \"Yemeğin içinden kıl çıktı, gitmenizi önermiyorum.\" # hair came out of the dish, I don't suggest you go\n",
    "# predict_print(myText)\n",
    "# myText = \"Tuş bozuk.\" # Key Broken\n",
    "# predict_print(myText)"
   ]
  },
  {
   "cell_type": "markdown",
   "metadata": {
    "papermill": {
     "duration": 1.001817,
     "end_time": "2020-08-30T15:38:43.008894",
     "exception": false,
     "start_time": "2020-08-30T15:38:42.007077",
     "status": "completed"
    },
    "tags": []
   },
   "source": [
    "<h1 >Thanks for reading, I'm open to your advices.</h1>"
   ]
  }
 ],
 "metadata": {
  "availableInstances": [
   {
    "_defaultOrder": 0,
    "_isFastLaunch": true,
    "category": "General purpose",
    "gpuNum": 0,
    "hideHardwareSpecs": false,
    "memoryGiB": 4,
    "name": "ml.t3.medium",
    "vcpuNum": 2
   },
   {
    "_defaultOrder": 1,
    "_isFastLaunch": false,
    "category": "General purpose",
    "gpuNum": 0,
    "hideHardwareSpecs": false,
    "memoryGiB": 8,
    "name": "ml.t3.large",
    "vcpuNum": 2
   },
   {
    "_defaultOrder": 2,
    "_isFastLaunch": false,
    "category": "General purpose",
    "gpuNum": 0,
    "hideHardwareSpecs": false,
    "memoryGiB": 16,
    "name": "ml.t3.xlarge",
    "vcpuNum": 4
   },
   {
    "_defaultOrder": 3,
    "_isFastLaunch": false,
    "category": "General purpose",
    "gpuNum": 0,
    "hideHardwareSpecs": false,
    "memoryGiB": 32,
    "name": "ml.t3.2xlarge",
    "vcpuNum": 8
   },
   {
    "_defaultOrder": 4,
    "_isFastLaunch": true,
    "category": "General purpose",
    "gpuNum": 0,
    "hideHardwareSpecs": false,
    "memoryGiB": 8,
    "name": "ml.m5.large",
    "vcpuNum": 2
   },
   {
    "_defaultOrder": 5,
    "_isFastLaunch": false,
    "category": "General purpose",
    "gpuNum": 0,
    "hideHardwareSpecs": false,
    "memoryGiB": 16,
    "name": "ml.m5.xlarge",
    "vcpuNum": 4
   },
   {
    "_defaultOrder": 6,
    "_isFastLaunch": false,
    "category": "General purpose",
    "gpuNum": 0,
    "hideHardwareSpecs": false,
    "memoryGiB": 32,
    "name": "ml.m5.2xlarge",
    "vcpuNum": 8
   },
   {
    "_defaultOrder": 7,
    "_isFastLaunch": false,
    "category": "General purpose",
    "gpuNum": 0,
    "hideHardwareSpecs": false,
    "memoryGiB": 64,
    "name": "ml.m5.4xlarge",
    "vcpuNum": 16
   },
   {
    "_defaultOrder": 8,
    "_isFastLaunch": false,
    "category": "General purpose",
    "gpuNum": 0,
    "hideHardwareSpecs": false,
    "memoryGiB": 128,
    "name": "ml.m5.8xlarge",
    "vcpuNum": 32
   },
   {
    "_defaultOrder": 9,
    "_isFastLaunch": false,
    "category": "General purpose",
    "gpuNum": 0,
    "hideHardwareSpecs": false,
    "memoryGiB": 192,
    "name": "ml.m5.12xlarge",
    "vcpuNum": 48
   },
   {
    "_defaultOrder": 10,
    "_isFastLaunch": false,
    "category": "General purpose",
    "gpuNum": 0,
    "hideHardwareSpecs": false,
    "memoryGiB": 256,
    "name": "ml.m5.16xlarge",
    "vcpuNum": 64
   },
   {
    "_defaultOrder": 11,
    "_isFastLaunch": false,
    "category": "General purpose",
    "gpuNum": 0,
    "hideHardwareSpecs": false,
    "memoryGiB": 384,
    "name": "ml.m5.24xlarge",
    "vcpuNum": 96
   },
   {
    "_defaultOrder": 12,
    "_isFastLaunch": false,
    "category": "General purpose",
    "gpuNum": 0,
    "hideHardwareSpecs": false,
    "memoryGiB": 8,
    "name": "ml.m5d.large",
    "vcpuNum": 2
   },
   {
    "_defaultOrder": 13,
    "_isFastLaunch": false,
    "category": "General purpose",
    "gpuNum": 0,
    "hideHardwareSpecs": false,
    "memoryGiB": 16,
    "name": "ml.m5d.xlarge",
    "vcpuNum": 4
   },
   {
    "_defaultOrder": 14,
    "_isFastLaunch": false,
    "category": "General purpose",
    "gpuNum": 0,
    "hideHardwareSpecs": false,
    "memoryGiB": 32,
    "name": "ml.m5d.2xlarge",
    "vcpuNum": 8
   },
   {
    "_defaultOrder": 15,
    "_isFastLaunch": false,
    "category": "General purpose",
    "gpuNum": 0,
    "hideHardwareSpecs": false,
    "memoryGiB": 64,
    "name": "ml.m5d.4xlarge",
    "vcpuNum": 16
   },
   {
    "_defaultOrder": 16,
    "_isFastLaunch": false,
    "category": "General purpose",
    "gpuNum": 0,
    "hideHardwareSpecs": false,
    "memoryGiB": 128,
    "name": "ml.m5d.8xlarge",
    "vcpuNum": 32
   },
   {
    "_defaultOrder": 17,
    "_isFastLaunch": false,
    "category": "General purpose",
    "gpuNum": 0,
    "hideHardwareSpecs": false,
    "memoryGiB": 192,
    "name": "ml.m5d.12xlarge",
    "vcpuNum": 48
   },
   {
    "_defaultOrder": 18,
    "_isFastLaunch": false,
    "category": "General purpose",
    "gpuNum": 0,
    "hideHardwareSpecs": false,
    "memoryGiB": 256,
    "name": "ml.m5d.16xlarge",
    "vcpuNum": 64
   },
   {
    "_defaultOrder": 19,
    "_isFastLaunch": false,
    "category": "General purpose",
    "gpuNum": 0,
    "hideHardwareSpecs": false,
    "memoryGiB": 384,
    "name": "ml.m5d.24xlarge",
    "vcpuNum": 96
   },
   {
    "_defaultOrder": 20,
    "_isFastLaunch": false,
    "category": "General purpose",
    "gpuNum": 0,
    "hideHardwareSpecs": true,
    "memoryGiB": 0,
    "name": "ml.geospatial.interactive",
    "supportedImageNames": [
     "sagemaker-geospatial-v1-0"
    ],
    "vcpuNum": 0
   },
   {
    "_defaultOrder": 21,
    "_isFastLaunch": true,
    "category": "Compute optimized",
    "gpuNum": 0,
    "hideHardwareSpecs": false,
    "memoryGiB": 4,
    "name": "ml.c5.large",
    "vcpuNum": 2
   },
   {
    "_defaultOrder": 22,
    "_isFastLaunch": false,
    "category": "Compute optimized",
    "gpuNum": 0,
    "hideHardwareSpecs": false,
    "memoryGiB": 8,
    "name": "ml.c5.xlarge",
    "vcpuNum": 4
   },
   {
    "_defaultOrder": 23,
    "_isFastLaunch": false,
    "category": "Compute optimized",
    "gpuNum": 0,
    "hideHardwareSpecs": false,
    "memoryGiB": 16,
    "name": "ml.c5.2xlarge",
    "vcpuNum": 8
   },
   {
    "_defaultOrder": 24,
    "_isFastLaunch": false,
    "category": "Compute optimized",
    "gpuNum": 0,
    "hideHardwareSpecs": false,
    "memoryGiB": 32,
    "name": "ml.c5.4xlarge",
    "vcpuNum": 16
   },
   {
    "_defaultOrder": 25,
    "_isFastLaunch": false,
    "category": "Compute optimized",
    "gpuNum": 0,
    "hideHardwareSpecs": false,
    "memoryGiB": 72,
    "name": "ml.c5.9xlarge",
    "vcpuNum": 36
   },
   {
    "_defaultOrder": 26,
    "_isFastLaunch": false,
    "category": "Compute optimized",
    "gpuNum": 0,
    "hideHardwareSpecs": false,
    "memoryGiB": 96,
    "name": "ml.c5.12xlarge",
    "vcpuNum": 48
   },
   {
    "_defaultOrder": 27,
    "_isFastLaunch": false,
    "category": "Compute optimized",
    "gpuNum": 0,
    "hideHardwareSpecs": false,
    "memoryGiB": 144,
    "name": "ml.c5.18xlarge",
    "vcpuNum": 72
   },
   {
    "_defaultOrder": 28,
    "_isFastLaunch": false,
    "category": "Compute optimized",
    "gpuNum": 0,
    "hideHardwareSpecs": false,
    "memoryGiB": 192,
    "name": "ml.c5.24xlarge",
    "vcpuNum": 96
   },
   {
    "_defaultOrder": 29,
    "_isFastLaunch": true,
    "category": "Accelerated computing",
    "gpuNum": 1,
    "hideHardwareSpecs": false,
    "memoryGiB": 16,
    "name": "ml.g4dn.xlarge",
    "vcpuNum": 4
   },
   {
    "_defaultOrder": 30,
    "_isFastLaunch": false,
    "category": "Accelerated computing",
    "gpuNum": 1,
    "hideHardwareSpecs": false,
    "memoryGiB": 32,
    "name": "ml.g4dn.2xlarge",
    "vcpuNum": 8
   },
   {
    "_defaultOrder": 31,
    "_isFastLaunch": false,
    "category": "Accelerated computing",
    "gpuNum": 1,
    "hideHardwareSpecs": false,
    "memoryGiB": 64,
    "name": "ml.g4dn.4xlarge",
    "vcpuNum": 16
   },
   {
    "_defaultOrder": 32,
    "_isFastLaunch": false,
    "category": "Accelerated computing",
    "gpuNum": 1,
    "hideHardwareSpecs": false,
    "memoryGiB": 128,
    "name": "ml.g4dn.8xlarge",
    "vcpuNum": 32
   },
   {
    "_defaultOrder": 33,
    "_isFastLaunch": false,
    "category": "Accelerated computing",
    "gpuNum": 4,
    "hideHardwareSpecs": false,
    "memoryGiB": 192,
    "name": "ml.g4dn.12xlarge",
    "vcpuNum": 48
   },
   {
    "_defaultOrder": 34,
    "_isFastLaunch": false,
    "category": "Accelerated computing",
    "gpuNum": 1,
    "hideHardwareSpecs": false,
    "memoryGiB": 256,
    "name": "ml.g4dn.16xlarge",
    "vcpuNum": 64
   },
   {
    "_defaultOrder": 35,
    "_isFastLaunch": false,
    "category": "Accelerated computing",
    "gpuNum": 1,
    "hideHardwareSpecs": false,
    "memoryGiB": 61,
    "name": "ml.p3.2xlarge",
    "vcpuNum": 8
   },
   {
    "_defaultOrder": 36,
    "_isFastLaunch": false,
    "category": "Accelerated computing",
    "gpuNum": 4,
    "hideHardwareSpecs": false,
    "memoryGiB": 244,
    "name": "ml.p3.8xlarge",
    "vcpuNum": 32
   },
   {
    "_defaultOrder": 37,
    "_isFastLaunch": false,
    "category": "Accelerated computing",
    "gpuNum": 8,
    "hideHardwareSpecs": false,
    "memoryGiB": 488,
    "name": "ml.p3.16xlarge",
    "vcpuNum": 64
   },
   {
    "_defaultOrder": 38,
    "_isFastLaunch": false,
    "category": "Accelerated computing",
    "gpuNum": 8,
    "hideHardwareSpecs": false,
    "memoryGiB": 768,
    "name": "ml.p3dn.24xlarge",
    "vcpuNum": 96
   },
   {
    "_defaultOrder": 39,
    "_isFastLaunch": false,
    "category": "Memory Optimized",
    "gpuNum": 0,
    "hideHardwareSpecs": false,
    "memoryGiB": 16,
    "name": "ml.r5.large",
    "vcpuNum": 2
   },
   {
    "_defaultOrder": 40,
    "_isFastLaunch": false,
    "category": "Memory Optimized",
    "gpuNum": 0,
    "hideHardwareSpecs": false,
    "memoryGiB": 32,
    "name": "ml.r5.xlarge",
    "vcpuNum": 4
   },
   {
    "_defaultOrder": 41,
    "_isFastLaunch": false,
    "category": "Memory Optimized",
    "gpuNum": 0,
    "hideHardwareSpecs": false,
    "memoryGiB": 64,
    "name": "ml.r5.2xlarge",
    "vcpuNum": 8
   },
   {
    "_defaultOrder": 42,
    "_isFastLaunch": false,
    "category": "Memory Optimized",
    "gpuNum": 0,
    "hideHardwareSpecs": false,
    "memoryGiB": 128,
    "name": "ml.r5.4xlarge",
    "vcpuNum": 16
   },
   {
    "_defaultOrder": 43,
    "_isFastLaunch": false,
    "category": "Memory Optimized",
    "gpuNum": 0,
    "hideHardwareSpecs": false,
    "memoryGiB": 256,
    "name": "ml.r5.8xlarge",
    "vcpuNum": 32
   },
   {
    "_defaultOrder": 44,
    "_isFastLaunch": false,
    "category": "Memory Optimized",
    "gpuNum": 0,
    "hideHardwareSpecs": false,
    "memoryGiB": 384,
    "name": "ml.r5.12xlarge",
    "vcpuNum": 48
   },
   {
    "_defaultOrder": 45,
    "_isFastLaunch": false,
    "category": "Memory Optimized",
    "gpuNum": 0,
    "hideHardwareSpecs": false,
    "memoryGiB": 512,
    "name": "ml.r5.16xlarge",
    "vcpuNum": 64
   },
   {
    "_defaultOrder": 46,
    "_isFastLaunch": false,
    "category": "Memory Optimized",
    "gpuNum": 0,
    "hideHardwareSpecs": false,
    "memoryGiB": 768,
    "name": "ml.r5.24xlarge",
    "vcpuNum": 96
   },
   {
    "_defaultOrder": 47,
    "_isFastLaunch": false,
    "category": "Accelerated computing",
    "gpuNum": 1,
    "hideHardwareSpecs": false,
    "memoryGiB": 16,
    "name": "ml.g5.xlarge",
    "vcpuNum": 4
   },
   {
    "_defaultOrder": 48,
    "_isFastLaunch": false,
    "category": "Accelerated computing",
    "gpuNum": 1,
    "hideHardwareSpecs": false,
    "memoryGiB": 32,
    "name": "ml.g5.2xlarge",
    "vcpuNum": 8
   },
   {
    "_defaultOrder": 49,
    "_isFastLaunch": false,
    "category": "Accelerated computing",
    "gpuNum": 1,
    "hideHardwareSpecs": false,
    "memoryGiB": 64,
    "name": "ml.g5.4xlarge",
    "vcpuNum": 16
   },
   {
    "_defaultOrder": 50,
    "_isFastLaunch": false,
    "category": "Accelerated computing",
    "gpuNum": 1,
    "hideHardwareSpecs": false,
    "memoryGiB": 128,
    "name": "ml.g5.8xlarge",
    "vcpuNum": 32
   },
   {
    "_defaultOrder": 51,
    "_isFastLaunch": false,
    "category": "Accelerated computing",
    "gpuNum": 1,
    "hideHardwareSpecs": false,
    "memoryGiB": 256,
    "name": "ml.g5.16xlarge",
    "vcpuNum": 64
   },
   {
    "_defaultOrder": 52,
    "_isFastLaunch": false,
    "category": "Accelerated computing",
    "gpuNum": 4,
    "hideHardwareSpecs": false,
    "memoryGiB": 192,
    "name": "ml.g5.12xlarge",
    "vcpuNum": 48
   },
   {
    "_defaultOrder": 53,
    "_isFastLaunch": false,
    "category": "Accelerated computing",
    "gpuNum": 4,
    "hideHardwareSpecs": false,
    "memoryGiB": 384,
    "name": "ml.g5.24xlarge",
    "vcpuNum": 96
   },
   {
    "_defaultOrder": 54,
    "_isFastLaunch": false,
    "category": "Accelerated computing",
    "gpuNum": 8,
    "hideHardwareSpecs": false,
    "memoryGiB": 768,
    "name": "ml.g5.48xlarge",
    "vcpuNum": 192
   },
   {
    "_defaultOrder": 55,
    "_isFastLaunch": false,
    "category": "Accelerated computing",
    "gpuNum": 8,
    "hideHardwareSpecs": false,
    "memoryGiB": 1152,
    "name": "ml.p4d.24xlarge",
    "vcpuNum": 96
   },
   {
    "_defaultOrder": 56,
    "_isFastLaunch": false,
    "category": "Accelerated computing",
    "gpuNum": 8,
    "hideHardwareSpecs": false,
    "memoryGiB": 1152,
    "name": "ml.p4de.24xlarge",
    "vcpuNum": 96
   }
  ],
  "instance_type": "ml.m5.xlarge",
  "kernelspec": {
   "display_name": "Python 3 (TensorFlow 2.11.0 Python 3.9 CPU Optimized)",
   "language": "python",
   "name": "python3__SAGEMAKER_INTERNAL__arn:aws:sagemaker:ap-northeast-2:806072073708:image/tensorflow-2.11.0-cpu-py39-ubuntu20.04-sagemaker-v1.1"
  },
  "language_info": {
   "codemirror_mode": {
    "name": "ipython",
    "version": 3
   },
   "file_extension": ".py",
   "mimetype": "text/x-python",
   "name": "python",
   "nbconvert_exporter": "python",
   "pygments_lexer": "ipython3",
   "version": "3.9.10"
  },
  "papermill": {
   "duration": 3790.366731,
   "end_time": "2020-08-30T15:38:44.263483",
   "environment_variables": {},
   "exception": null,
   "input_path": "__notebook__.ipynb",
   "output_path": "__notebook__.ipynb",
   "parameters": {},
   "start_time": "2020-08-30T14:35:33.896752",
   "version": "2.1.0"
  },
  "widgets": {
   "application/vnd.jupyter.widget-state+json": {
    "state": {},
    "version_major": 2,
    "version_minor": 0
   }
  }
 },
 "nbformat": 4,
 "nbformat_minor": 4
}
